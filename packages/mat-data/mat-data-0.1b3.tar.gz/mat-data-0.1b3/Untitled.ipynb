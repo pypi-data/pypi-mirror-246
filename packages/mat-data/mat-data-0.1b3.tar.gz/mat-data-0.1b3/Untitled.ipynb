{
 "cells": [
  {
   "cell_type": "code",
   "execution_count": 5,
   "id": "23d6fb81-d81f-4be1-9d78-c1f68c00a48b",
   "metadata": {},
   "outputs": [],
   "source": [
    "from matdata.preprocess import *\n",
    "from matdata.inc.converter import *\n",
    "from matdata.inc.ts_io import *"
   ]
  },
  {
   "cell_type": "code",
   "execution_count": null,
   "id": "e66d9aa3-ce44-484b-a44a-5c2f32d55f0b",
   "metadata": {},
   "outputs": [],
   "source": []
  }
 ],
 "metadata": {
  "kernelspec": {
   "display_name": "Python 3 (ipykernel)",
   "language": "python",
   "name": "python3"
  },
  "language_info": {
   "codemirror_mode": {
    "name": "ipython",
    "version": 3
   },
   "file_extension": ".py",
   "mimetype": "text/x-python",
   "name": "python",
   "nbconvert_exporter": "python",
   "pygments_lexer": "ipython3",
   "version": "3.9.13"
  }
 },
 "nbformat": 4,
 "nbformat_minor": 5
}
