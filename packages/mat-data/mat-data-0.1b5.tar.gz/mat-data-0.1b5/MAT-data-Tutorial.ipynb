{
 "cells": [
  {
   "cell_type": "markdown",
   "metadata": {},
   "source": [
    "# MAT-data: Data Preprocessing for Multiple Aspect Trajectory Data Mining \\[MAT-Tools Framework\\]\n",
    "\n",
    "Sample Code in python notebook to use mat-data as a python library.\n",
    "\n",
    "The present package offers a tool, to support the user in the task of data preprocessing of multiple aspect trajectories, or to generating synthetic datasets. It integrates into a unique framework for multiple aspects trajectories and in general for multidimensional sequence data mining methods.\n",
    "\n",
    "Created on Dec, 2023\n",
    "Copyright (C) 2023, License GPL Version 3 or superior (see LICENSE file)"
   ]
  },
  {
   "cell_type": "code",
   "execution_count": null,
   "metadata": {},
   "outputs": [],
   "source": [
    "#!pip install --upgrade mat-data\n",
    "!pip install mat-data"
   ]
  },
  {
   "cell_type": "markdown",
   "metadata": {},
   "source": [
    "### 1. Pre-processing data\n",
    "To use helpers for data pre-processing, import from package `matdata.preprocess`:"
   ]
  },
  {
   "cell_type": "code",
   "execution_count": 3,
   "metadata": {},
   "outputs": [],
   "source": [
    "from matdata.preprocess import *"
   ]
  },
  {
   "cell_type": "markdown",
   "metadata": {},
   "source": [
    "The **preprocessing** module provides some functions to work data:\n",
    "\n",
    "Basic functions:\n",
    "- `readDataset`: load datasets as pandas DataFrame (from .csv, .zip, or .ts)\n",
    "- `printFeaturesJSON`: print a default JSON file descriptor for Movelets methods (version 1 or 2)\n",
    "- `datasetStatistics`: calculates statistics from a datasets dataframe.\n",
    "\n",
    "Train and Test split functions:\n",
    "- `trainAndTestSplit`: split dataset (pandas DataFrame) in train / test (70/30% by default)\n",
    "- `kfold_trainAndTestSplit`: split dataset (pandas DataFrame) in k-fold train / test (80/20% each fold by default)\n",
    "- `stratify`: extract trajectories from the dataset, creating a subset of the data (to use when smaller datasets are needed)\n",
    "- `joinTrainAndTest`: joins the train and test files into one DataFrame.\n",
    "\n",
    "Type convertion functions:\n",
    "- `convertDataset`: default format conversions. Reads the dataset files and saves in .csv and .zip formats, also do k-fold split if not present\n",
    "- `zip2df`: converts .zip files and saves to DataFrame\n",
    "- `zip2csv`: converts .zip files and saves to .csv files\n",
    "- `df2zip`: converts DataFrame and saves to .zip files\n",
    "- `zip2arf`: converts .zip and saves to .arf files\n",
    "- `any2ts`: converts .zip or .csv files and saves to .ts files\n",
    "- `xes2csv`: reads .xes files and converts to DataFrame"
   ]
  },
  {
   "cell_type": "code",
   "execution_count": 10,
   "metadata": {},
   "outputs": [
    {
     "name": "stdout",
     "output_type": "stream",
     "text": [
      "Joining train and test data from... automatize/assets/examples/Example/data\n",
      "Done.\n",
      " --------------------------------------------------------------------------------\n"
     ]
    },
    {
     "data": {
      "text/html": [
       "<div>\n",
       "<style scoped>\n",
       "    .dataframe tbody tr th:only-of-type {\n",
       "        vertical-align: middle;\n",
       "    }\n",
       "\n",
       "    .dataframe tbody tr th {\n",
       "        vertical-align: top;\n",
       "    }\n",
       "\n",
       "    .dataframe thead th {\n",
       "        text-align: right;\n",
       "    }\n",
       "</style>\n",
       "<table border=\"1\" class=\"dataframe\">\n",
       "  <thead>\n",
       "    <tr style=\"text-align: right;\">\n",
       "      <th></th>\n",
       "      <th>tid</th>\n",
       "      <th>lat_lon</th>\n",
       "      <th>hour</th>\n",
       "      <th>price</th>\n",
       "      <th>poi</th>\n",
       "      <th>weather</th>\n",
       "      <th>day</th>\n",
       "      <th>label</th>\n",
       "    </tr>\n",
       "  </thead>\n",
       "  <tbody>\n",
       "    <tr>\n",
       "      <th>0</th>\n",
       "      <td>12</td>\n",
       "      <td>0.0 6.2</td>\n",
       "      <td>8</td>\n",
       "      <td>-1</td>\n",
       "      <td>Home</td>\n",
       "      <td>Clear</td>\n",
       "      <td>Monday</td>\n",
       "      <td>Classs_False</td>\n",
       "    </tr>\n",
       "    <tr>\n",
       "      <th>1</th>\n",
       "      <td>12</td>\n",
       "      <td>0.8 6.2</td>\n",
       "      <td>9</td>\n",
       "      <td>2</td>\n",
       "      <td>University</td>\n",
       "      <td>Clouds</td>\n",
       "      <td>Monday</td>\n",
       "      <td>Classs_False</td>\n",
       "    </tr>\n",
       "    <tr>\n",
       "      <th>2</th>\n",
       "      <td>12</td>\n",
       "      <td>3.1 11</td>\n",
       "      <td>12</td>\n",
       "      <td>2</td>\n",
       "      <td>Restaurant</td>\n",
       "      <td>Clear</td>\n",
       "      <td>Monday</td>\n",
       "      <td>Classs_False</td>\n",
       "    </tr>\n",
       "    <tr>\n",
       "      <th>3</th>\n",
       "      <td>12</td>\n",
       "      <td>0.8 6.5</td>\n",
       "      <td>13</td>\n",
       "      <td>2</td>\n",
       "      <td>University</td>\n",
       "      <td>Clear</td>\n",
       "      <td>Monday</td>\n",
       "      <td>Classs_False</td>\n",
       "    </tr>\n",
       "    <tr>\n",
       "      <th>4</th>\n",
       "      <td>12</td>\n",
       "      <td>0.2 6.2</td>\n",
       "      <td>17</td>\n",
       "      <td>-1</td>\n",
       "      <td>Home</td>\n",
       "      <td>Rain</td>\n",
       "      <td>Monday</td>\n",
       "      <td>Classs_False</td>\n",
       "    </tr>\n",
       "  </tbody>\n",
       "</table>\n",
       "</div>"
      ],
      "text/plain": [
       "   tid  lat_lon  hour  price         poi weather     day         label\n",
       "0   12  0.0 6.2     8     -1        Home   Clear  Monday  Classs_False\n",
       "1   12  0.8 6.2     9      2  University  Clouds  Monday  Classs_False\n",
       "2   12   3.1 11    12      2  Restaurant   Clear  Monday  Classs_False\n",
       "3   12  0.8 6.5    13      2  University   Clear  Monday  Classs_False\n",
       "4   12  0.2 6.2    17     -1        Home    Rain  Monday  Classs_False"
      ]
     },
     "execution_count": 10,
     "metadata": {},
     "output_type": "execute_result"
    }
   ],
   "source": [
    "#cols = ['tid','label','lat','lon','day','hour','poi','category','price','rating']\n",
    "\n",
    "df = joinTrainAndTest(data_path, train_file=\"train.csv\", test_file=\"test.csv\", class_col = 'label')\n",
    "df.head()"
   ]
  },
  {
   "cell_type": "markdown",
   "metadata": {},
   "source": [
    "To k-fold split a dataset into train and test:"
   ]
  },
  {
   "cell_type": "code",
   "execution_count": 11,
   "metadata": {},
   "outputs": [
    {
     "name": "stdout",
     "output_type": "stream",
     "text": [
      "3-fold train and test split in... automatize/assets/examples/Example/data\n"
     ]
    },
    {
     "data": {
      "application/vnd.jupyter.widget-view+json": {
       "model_id": "",
       "version_major": 2,
       "version_minor": 0
      },
      "text/plain": [
       "Spliting Data:   0%|          | 0/2 [00:00<?, ?it/s]"
      ]
     },
     "metadata": {},
     "output_type": "display_data"
    },
    {
     "name": "stdout",
     "output_type": "stream",
     "text": [
      "Done.\n",
      "Writing files ... 1/3\n"
     ]
    },
    {
     "data": {
      "application/vnd.jupyter.widget-view+json": {
       "model_id": "",
       "version_major": 2,
       "version_minor": 0
      },
      "text/plain": [
       "Writing TRAIN - ZIP|1:   0%|          | 0/7 [00:00<?, ?it/s]"
      ]
     },
     "metadata": {},
     "output_type": "display_data"
    },
    {
     "data": {
      "application/vnd.jupyter.widget-view+json": {
       "model_id": "",
       "version_major": 2,
       "version_minor": 0
      },
      "text/plain": [
       "Writing TEST  - ZIP|1:   0%|          | 0/4 [00:00<?, ?it/s]"
      ]
     },
     "metadata": {},
     "output_type": "display_data"
    },
    {
     "name": "stdout",
     "output_type": "stream",
     "text": [
      "Writing TRAIN / TEST - CSV|1\n"
     ]
    },
    {
     "data": {
      "application/vnd.jupyter.widget-view+json": {
       "model_id": "",
       "version_major": 2,
       "version_minor": 0
      },
      "text/plain": [
       "Writing TRAIN - MAT|1:   0%|          | 0/7 [00:00<?, ?it/s]"
      ]
     },
     "metadata": {},
     "output_type": "display_data"
    },
    {
     "data": {
      "application/vnd.jupyter.widget-view+json": {
       "model_id": "",
       "version_major": 2,
       "version_minor": 0
      },
      "text/plain": [
       "Writing TEST  - MAT|1:   0%|          | 0/4 [00:00<?, ?it/s]"
      ]
     },
     "metadata": {},
     "output_type": "display_data"
    },
    {
     "name": "stdout",
     "output_type": "stream",
     "text": [
      "Writing files ... 2/3\n"
     ]
    },
    {
     "data": {
      "application/vnd.jupyter.widget-view+json": {
       "model_id": "",
       "version_major": 2,
       "version_minor": 0
      },
      "text/plain": [
       "Writing TRAIN - ZIP|2:   0%|          | 0/7 [00:00<?, ?it/s]"
      ]
     },
     "metadata": {},
     "output_type": "display_data"
    },
    {
     "data": {
      "application/vnd.jupyter.widget-view+json": {
       "model_id": "",
       "version_major": 2,
       "version_minor": 0
      },
      "text/plain": [
       "Writing TEST  - ZIP|2:   0%|          | 0/4 [00:00<?, ?it/s]"
      ]
     },
     "metadata": {},
     "output_type": "display_data"
    },
    {
     "name": "stdout",
     "output_type": "stream",
     "text": [
      "Writing TRAIN / TEST - CSV|2\n"
     ]
    },
    {
     "data": {
      "application/vnd.jupyter.widget-view+json": {
       "model_id": "",
       "version_major": 2,
       "version_minor": 0
      },
      "text/plain": [
       "Writing TRAIN - MAT|2:   0%|          | 0/7 [00:00<?, ?it/s]"
      ]
     },
     "metadata": {},
     "output_type": "display_data"
    },
    {
     "data": {
      "application/vnd.jupyter.widget-view+json": {
       "model_id": "",
       "version_major": 2,
       "version_minor": 0
      },
      "text/plain": [
       "Writing TEST  - MAT|2:   0%|          | 0/4 [00:00<?, ?it/s]"
      ]
     },
     "metadata": {},
     "output_type": "display_data"
    },
    {
     "name": "stdout",
     "output_type": "stream",
     "text": [
      "Writing files ... 3/3\n"
     ]
    },
    {
     "data": {
      "application/vnd.jupyter.widget-view+json": {
       "model_id": "",
       "version_major": 2,
       "version_minor": 0
      },
      "text/plain": [
       "Writing TRAIN - ZIP|3:   0%|          | 0/8 [00:00<?, ?it/s]"
      ]
     },
     "metadata": {},
     "output_type": "display_data"
    },
    {
     "data": {
      "application/vnd.jupyter.widget-view+json": {
       "model_id": "",
       "version_major": 2,
       "version_minor": 0
      },
      "text/plain": [
       "Writing TEST  - ZIP|3:   0%|          | 0/3 [00:00<?, ?it/s]"
      ]
     },
     "metadata": {},
     "output_type": "display_data"
    },
    {
     "name": "stdout",
     "output_type": "stream",
     "text": [
      "Writing TRAIN / TEST - CSV|3\n"
     ]
    },
    {
     "data": {
      "application/vnd.jupyter.widget-view+json": {
       "model_id": "",
       "version_major": 2,
       "version_minor": 0
      },
      "text/plain": [
       "Writing TRAIN - MAT|3:   0%|          | 0/8 [00:00<?, ?it/s]"
      ]
     },
     "metadata": {},
     "output_type": "display_data"
    },
    {
     "data": {
      "application/vnd.jupyter.widget-view+json": {
       "model_id": "",
       "version_major": 2,
       "version_minor": 0
      },
      "text/plain": [
       "Writing TEST  - MAT|3:   0%|          | 0/3 [00:00<?, ?it/s]"
      ]
     },
     "metadata": {},
     "output_type": "display_data"
    },
    {
     "name": "stdout",
     "output_type": "stream",
     "text": [
      "Done.\n",
      " --------------------------------------------------------------------------------\n"
     ]
    }
   ],
   "source": [
    "k = 3\n",
    "\n",
    "train, test = kfold_trainAndTestSplit(data_path, k, df, random_num=1, class_col='label')"
   ]
  },
  {
   "cell_type": "markdown",
   "metadata": {},
   "source": [
    "To convert train and test from one available format to other default formats (CSV, ZIP, MAT):"
   ]
  },
  {
   "cell_type": "code",
   "execution_count": 4,
   "metadata": {},
   "outputs": [
    {
     "data": {
      "application/vnd.jupyter.widget-view+json": {
       "model_id": "347332120f3843f1a5d7e0b7fe9589a5",
       "version_major": 2,
       "version_minor": 0
      },
      "text/plain": [
       "Writing TRAIN - ZIP|:   0%|          | 0/14 [00:00<?, ?it/s]"
      ]
     },
     "metadata": {},
     "output_type": "display_data"
    },
    {
     "data": {
      "application/vnd.jupyter.widget-view+json": {
       "model_id": "a7629f28306a42fc82bf9b127a58a8fd",
       "version_major": 2,
       "version_minor": 0
      },
      "text/plain": [
       "Writing TEST  - ZIP|:   0%|          | 0/14 [00:00<?, ?it/s]"
      ]
     },
     "metadata": {},
     "output_type": "display_data"
    },
    {
     "data": {
      "application/vnd.jupyter.widget-view+json": {
       "model_id": "cab1da6918f8451ca2f3d4ce83dfcf55",
       "version_major": 2,
       "version_minor": 0
      },
      "text/plain": [
       "Writing TRAIN - MAT|:   0%|          | 0/14 [00:00<?, ?it/s]"
      ]
     },
     "metadata": {},
     "output_type": "display_data"
    },
    {
     "data": {
      "application/vnd.jupyter.widget-view+json": {
       "model_id": "3a37e0601d3b4ff3b00bee778f84c4d5",
       "version_major": 2,
       "version_minor": 0
      },
      "text/plain": [
       "Writing TEST  - MAT|:   0%|          | 0/14 [00:00<?, ?it/s]"
      ]
     },
     "metadata": {},
     "output_type": "display_data"
    },
    {
     "name": "stdout",
     "output_type": "stream",
     "text": [
      "All Done.\n"
     ]
    }
   ],
   "source": [
    "convertDataset(data_path)"
   ]
  },
  {
   "cell_type": "markdown",
   "metadata": {},
   "source": [
    "### 2. Synthetic Data Generation\n",
    "\n",
    "TODO"
   ]
  },
  {
   "cell_type": "code",
   "execution_count": 5,
   "metadata": {},
   "outputs": [],
   "source": [
    "from matdata.generator import *"
   ]
  },
  {
   "cell_type": "markdown",
   "metadata": {},
   "source": [
    "- `scalerSamplerGenerator`: generates trajectory datasets based on real data on scale intervals\n",
    "- `samplerGenerator`: generate a trajectory dataset based on real data\n",
    "- `scalerRandomGenerator`: generates trajectory datasets based on random data on scale intervals\n",
    "- `randomGenerator`: generate a trajectory dataset based on random data"
   ]
  },
  {
   "cell_type": "code",
   "execution_count": null,
   "metadata": {},
   "outputs": [],
   "source": []
  },
  {
   "cell_type": "markdown",
   "metadata": {},
   "source": [
    "\\# By Tarlis Portela (2023)"
   ]
  }
 ],
 "metadata": {
  "kernelspec": {
   "display_name": "Python 3 (ipykernel)",
   "language": "python",
   "name": "python3"
  },
  "language_info": {
   "codemirror_mode": {
    "name": "ipython",
    "version": 3
   },
   "file_extension": ".py",
   "mimetype": "text/x-python",
   "name": "python",
   "nbconvert_exporter": "python",
   "pygments_lexer": "ipython3",
   "version": "3.9.13"
  }
 },
 "nbformat": 4,
 "nbformat_minor": 4
}
