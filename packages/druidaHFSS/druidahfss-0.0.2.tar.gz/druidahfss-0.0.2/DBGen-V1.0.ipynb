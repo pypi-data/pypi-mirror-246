{
 "cells": [
  {
   "cell_type": "markdown",
   "id": "84a95f36-16c7-4ac4-bea6-7f7d233059fd",
   "metadata": {},
   "source": [
    "# Metasurfaces Data Base Genetation Ansys HFSS Interface\n",
    "\n",
    "## _Versión 0.1_\n",
    "### Author: Jorge Cárdenas\n",
    "### Pontificia Universidad de Valparaíso\n",
    "This development is intended to provide an interface to access HFSS, in order to automate simulation and optimization processes.\n",
    "\n",
    "## Features\n",
    "\n",
    "- Automate the re-creation of models in aedt files.\n",
    "- Create intermediate files to run simulations.\n",
    "- Run simulations and gather specific metrics from the simualtor.\n"
   ]
  },
  {
   "cell_type": "code",
   "execution_count": 6,
   "id": "de354f5b-65d9-471f-8cf2-b6f44625a3aa",
   "metadata": {
    "tags": []
   },
   "outputs": [
    {
     "name": "stdout",
     "output_type": "stream",
     "text": [
      "Collecting druidaHFSS\n",
      "  Obtaining dependency information for druidaHFSS from https://files.pythonhosted.org/packages/5a/8e/db4ab177dcb148f4b9315459b924f9d7e7658d1dc32c0ca7e5a8e0a6534e/druidahfss-0.0.1-py3-none-any.whl.metadata\n",
      "  Downloading druidahfss-0.0.1-py3-none-any.whl.metadata (2.1 kB)\n",
      "Requirement already satisfied: imutils in c:\\users\\jorge\\anaconda3\\envs\\ai\\lib\\site-packages (from druidaHFSS) (0.5.4)\n",
      "Requirement already satisfied: numpy<=1.24.3 in c:\\users\\jorge\\anaconda3\\envs\\ai\\lib\\site-packages (from druidaHFSS) (1.24.3)\n",
      "Requirement already satisfied: opencv-python in c:\\users\\jorge\\anaconda3\\envs\\ai\\lib\\site-packages (from druidaHFSS) (4.8.1.78)\n",
      "Requirement already satisfied: pandas~=2.1.0 in c:\\users\\jorge\\anaconda3\\envs\\ai\\lib\\site-packages (from druidaHFSS) (2.1.0)\n",
      "Requirement already satisfied: pillow in c:\\users\\jorge\\anaconda3\\envs\\ai\\lib\\site-packages (from druidaHFSS) (10.0.0)\n",
      "Requirement already satisfied: scikit-learn in c:\\users\\jorge\\anaconda3\\envs\\ai\\lib\\site-packages (from druidaHFSS) (1.3.0)\n",
      "Requirement already satisfied: torch~=2.0.1 in c:\\users\\jorge\\anaconda3\\envs\\ai\\lib\\site-packages (from druidaHFSS) (2.0.1)\n",
      "Requirement already satisfied: wheel in c:\\users\\jorge\\anaconda3\\envs\\ai\\lib\\site-packages (from druidaHFSS) (0.38.4)\n",
      "Requirement already satisfied: python-dateutil>=2.8.2 in c:\\users\\jorge\\anaconda3\\envs\\ai\\lib\\site-packages (from pandas~=2.1.0->druidaHFSS) (2.8.2)\n",
      "Requirement already satisfied: pytz>=2020.1 in c:\\users\\jorge\\anaconda3\\envs\\ai\\lib\\site-packages (from pandas~=2.1.0->druidaHFSS) (2022.7)\n",
      "Requirement already satisfied: tzdata>=2022.1 in c:\\users\\jorge\\anaconda3\\envs\\ai\\lib\\site-packages (from pandas~=2.1.0->druidaHFSS) (2023.3)\n",
      "Requirement already satisfied: filelock in c:\\users\\jorge\\anaconda3\\envs\\ai\\lib\\site-packages (from torch~=2.0.1->druidaHFSS) (3.12.3)\n",
      "Requirement already satisfied: typing-extensions in c:\\users\\jorge\\anaconda3\\envs\\ai\\lib\\site-packages (from torch~=2.0.1->druidaHFSS) (4.5.0)\n",
      "Requirement already satisfied: sympy in c:\\users\\jorge\\anaconda3\\envs\\ai\\lib\\site-packages (from torch~=2.0.1->druidaHFSS) (1.12)\n",
      "Requirement already satisfied: networkx in c:\\users\\jorge\\anaconda3\\envs\\ai\\lib\\site-packages (from torch~=2.0.1->druidaHFSS) (3.1)\n",
      "Requirement already satisfied: jinja2 in c:\\users\\jorge\\anaconda3\\envs\\ai\\lib\\site-packages (from torch~=2.0.1->druidaHFSS) (3.1.2)\n",
      "Requirement already satisfied: scipy>=1.5.0 in c:\\users\\jorge\\anaconda3\\envs\\ai\\lib\\site-packages (from scikit-learn->druidaHFSS) (1.11.2)\n",
      "Requirement already satisfied: joblib>=1.1.1 in c:\\users\\jorge\\anaconda3\\envs\\ai\\lib\\site-packages (from scikit-learn->druidaHFSS) (1.3.2)\n",
      "Requirement already satisfied: threadpoolctl>=2.0.0 in c:\\users\\jorge\\anaconda3\\envs\\ai\\lib\\site-packages (from scikit-learn->druidaHFSS) (3.2.0)\n",
      "Requirement already satisfied: six>=1.5 in c:\\users\\jorge\\anaconda3\\envs\\ai\\lib\\site-packages (from python-dateutil>=2.8.2->pandas~=2.1.0->druidaHFSS) (1.16.0)\n",
      "Requirement already satisfied: MarkupSafe>=2.0 in c:\\users\\jorge\\anaconda3\\envs\\ai\\lib\\site-packages (from jinja2->torch~=2.0.1->druidaHFSS) (2.1.1)\n",
      "Requirement already satisfied: mpmath>=0.19 in c:\\users\\jorge\\anaconda3\\envs\\ai\\lib\\site-packages (from sympy->torch~=2.0.1->druidaHFSS) (1.3.0)\n",
      "Downloading druidahfss-0.0.1-py3-none-any.whl (6.3 kB)\n",
      "Installing collected packages: druidaHFSS\n",
      "Successfully installed druidaHFSS-0.0.1\n",
      "Note: you may need to restart the kernel to use updated packages.\n"
     ]
    }
   ],
   "source": [
    "\"\"\"When working in Dev mode\"\"\"\n",
    "#import sys  \n",
    "#sys.path.insert(0, './src/')\n",
    "\n",
    "\"\"\"when working in Production mode\"\"\"\n",
    "%pip install druidaHFSS"
   ]
  },
  {
   "cell_type": "code",
   "execution_count": 7,
   "id": "3dda262b-9c49-42c7-ad59-1b71b402c3ec",
   "metadata": {
    "tags": []
   },
   "outputs": [],
   "source": [
    "\n",
    "\n",
    "\n",
    "import os\n",
    "import uuid \n",
    "from datetime import datetime\n",
    "\n",
    "\n",
    "from __future__ import print_function\n",
    "#from Utilities.SaveAnimation import Video\n",
    "from druidaHFSS import Manager as MG\n",
    "\n"
   ]
  },
  {
   "cell_type": "markdown",
   "id": "dbd47847-88c2-4745-b003-75bc676fbde3",
   "metadata": {},
   "source": [
    "## Setup\n",
    "<p>In this section we prepare all variables to set the origin and destination folders for our resulting files</p>"
   ]
  },
  {
   "cell_type": "code",
   "execution_count": 2,
   "id": "e9f6107b-23f6-41c3-91b9-4860140d4138",
   "metadata": {
    "tags": []
   },
   "outputs": [],
   "source": [
    "ansysPath=\"C:\\\\Program Files\\\\AnsysEM\\\\AnsysEM21.2\\\\Win64\\\\ansysedt.exe\"\n",
    "modelName=\"box_01_freq_reflect\"\n",
    "modelPath=r\"C:/Users/jorge/Documents/Projects Jorge C/DRUIDA PROJECT/POC/dbGeneration_v0/Models/testing-multioutput/\"\n",
    "exportPath= \"C:\\\\Users\\\\jorge\\\\Documents\\\\Projects Jorge C\\\\DRUIDA PROJECT\\\\POC\\\\dbGeneration_v0\\\\Exports\"\n",
    "dBPath= \"C:\\\\Users\\\\jorge\\\\Documents\\\\Projects Jorge C\\\\DRUIDA PROJECT\\\\POC\\\\dbGeneration_v0\\\\DBfiles\\\\\"\n",
    "project_name=\"meta-atom_box_01_datageneration\"\n",
    "designName=\"HFSSDesign1\"\n",
    "\n",
    "#set simulation variables\n",
    "#This is run to create iterative simulations\n",
    "\n"
   ]
  },
  {
   "cell_type": "code",
   "execution_count": 3,
   "id": "ed39dcb8-533d-4138-b693-54fe2e8a7327",
   "metadata": {
    "tags": []
   },
   "outputs": [],
   "source": [
    "#Model builder\n",
    "\n",
    "#ansysPath,modelName, modelPath,exportPath\n",
    "\n",
    "Builder=MG.Builder(ansysPath=ansysPath,modelName=modelName,projectName=project_name, designName=designName,modelPath=modelPath, exportPath=exportPath)\n"
   ]
  },
  {
   "cell_type": "code",
   "execution_count": 35,
   "id": "eb404419-2116-449a-9a14-b748efdf7c5a",
   "metadata": {
    "tags": []
   },
   "outputs": [],
   "source": [
    "#ReCreate a aedt model from script \n",
    "#We are supposed to have previously worked our model out and keep a python script \n",
    "#to be used as source to create the geometry when required.\n",
    "\n",
    "Builder.create()"
   ]
  },
  {
   "cell_type": "markdown",
   "id": "d92370a1-3cdf-4ec8-843c-350f4507e8b4",
   "metadata": {
    "tags": []
   },
   "source": [
    "# 1. A full batch of simulation for box-shaped cells\n",
    "\n",
    "![alternatvie text](./resources/Picture1.png)"
   ]
  },
  {
   "cell_type": "code",
   "execution_count": 7,
   "id": "088f69e1-40f7-45e6-a1f5-10abe06d7d6c",
   "metadata": {
    "tags": []
   },
   "outputs": [],
   "source": [
    "#Generate batch of vectors to simulate\n",
    "import random\n",
    "\n",
    "def parameters_Generator(constraints, batch_size, vector_size):\n",
    "    x = [[0 for i in range(vector_size)] for j in range(batch_size)]\n",
    "\n",
    "    for vector in x:\n",
    "        for i, (k, v) in enumerate(constraints.items()):\n",
    "            vector[i]=random.uniform(constraints[k][\"max\"], constraints[k][\"min\"])\n",
    "            \n",
    "    return x\n",
    "    \n",
    "\n",
    "    "
   ]
  },
  {
   "cell_type": "code",
   "execution_count": 9,
   "id": "e862cc19-6d30-4922-902f-e0168db5bab3",
   "metadata": {
    "tags": []
   },
   "outputs": [
    {
     "name": "stdout",
     "output_type": "stream",
     "text": [
      "\"C:/Users/jorge/Documents/Projects Jorge C/DRUIDA PROJECT/POC/dbGeneration_v0/Models/testing-multioutput/meta-atom_box_01_datageneration.aedt\"\n",
      "The new directory is created!\n",
      "\"C:/Users/jorge/Documents/Projects Jorge C/DRUIDA PROJECT/POC/dbGeneration_v0/Models/testing-multioutput/meta-atom_box_01_datageneration.aedt\"\n",
      "The new directory is created!\n",
      "\"C:/Users/jorge/Documents/Projects Jorge C/DRUIDA PROJECT/POC/dbGeneration_v0/Models/testing-multioutput/meta-atom_box_01_datageneration.aedt\"\n",
      "The new directory is created!\n"
     ]
    }
   ],
   "source": [
    "\n",
    "batch=0\n",
    "iteration=0\n",
    "simfile_path= \"C:\\\\Users\\\\jorge\\\\Documents\\\\Projects Jorge C\\\\DRUIDA PROJECT\\\\POC\\\\dbGeneration_v0\\\\\"\n",
    "simfileName= \"intermediateFile.py\"\n",
    "\n",
    "#set reports\n",
    "reports={\n",
    "    \"ReflectanceTE\":\"(mag(S(FloquetPort1:1,FloquetPort1:1)))^2\",\n",
    "    \"ReflectanceTM\":\"(mag(S(FloquetPort1:2,FloquetPort1:2)))^2\"\n",
    "    }\n",
    "\n",
    "constraints = {\"xize\":{\"max\":4, \"min\":0.3,\"nominaSl\":1},\n",
    "            \"ySize\":{\"max\":4, \"min\":0.3,\"nominal\":1},\n",
    "            \"zSize\":{\"max\":0.08, \"min\":0.6,\"nominal\":0.5},\n",
    "            \"zSustrato\":{\"max\":1.5, \"min\":0.5,\"nominal\":1}}\n",
    "\n",
    "parameters = parameters_Generator(constraints, batch_size=3, vector_size=4)     \n",
    "\n",
    "\n",
    "\n",
    "for parameter in parameters:\n",
    "    \n",
    "    \n",
    "    #parameters, batch, iteration, filePath, **kwargs\n",
    "    #Kwargs\n",
    "    #AnsoftPath=kwargs['ansoft_path']\n",
    "    #modelPath=kwargs['model_path'] \n",
    "    #outputPath=kwargs['output_path']\n",
    "    #projectName=kwargs['project_name']\n",
    "    #simulationID=kwargs['simulation_id']\n",
    "    #variableName=kwargs['variable_name']\n",
    "    #value=kwargs['value']\n",
    "    #units=kwargs['units']\n",
    "    #design=kwargs['design_name']\n",
    "\n",
    "    #Create the intermediate simulation fiel\n",
    "    \n",
    "    simulation_id=str(uuid.uuid1())\n",
    "\n",
    "    #set variables to modify\n",
    "    variable_name='parameters'\n",
    "    value=str(parameter)\n",
    "\n",
    "    units=\"mm\"\n",
    "    \n",
    "    kwargs={\n",
    "        \"reports\":reports,\n",
    "        \"simulation_id\":simulation_id,\n",
    "       \"variable_name\":variable_name,\n",
    "        \"value\" : value,\n",
    "        \"units\" : units,\n",
    "       }\n",
    "    \n",
    "    Builder.sim_file('', batch, iteration, simfile_path, **kwargs)\n",
    "    \n",
    "    Builder.simulate(simfile_path+simfileName)\n",
    "    \n",
    "    iteration+=iteration\n"
   ]
  },
  {
   "cell_type": "markdown",
   "id": "4a5f939b-358e-4e45-81fa-c0986646ac73",
   "metadata": {},
   "source": [
    "## Setting a dataframe to build our DB\n"
   ]
  },
  {
   "cell_type": "code",
   "execution_count": 23,
   "id": "0ff5c2c5-090d-4f5f-9aea-6bacc07aaf01",
   "metadata": {
    "tags": []
   },
   "outputs": [],
   "source": [
    "now=datetime.now()\n",
    "dbName=modelName+' batch'+'01'+\" \"+str(now)[:10]+'.csv'\n",
    "\n",
    "dbManager=MG.DBManager(ansysPath=ansysPath,\n",
    "                       modelName=modelName,\n",
    "                       projectName=project_name,\n",
    "                       designName=designName,\n",
    "                       modelPath=modelPath, \n",
    "                       dbPath=dBPath,\n",
    "                      dbName=dbName)\n"
   ]
  },
  {
   "cell_type": "code",
   "execution_count": 24,
   "id": "2e5b6788-375c-4740-afb7-24bef4fe0bea",
   "metadata": {},
   "outputs": [
    {
     "data": {
      "text/html": [
       "<div>\n",
       "<style scoped>\n",
       "    .dataframe tbody tr th:only-of-type {\n",
       "        vertical-align: middle;\n",
       "    }\n",
       "\n",
       "    .dataframe tbody tr th {\n",
       "        vertical-align: top;\n",
       "    }\n",
       "\n",
       "    .dataframe thead th {\n",
       "        text-align: right;\n",
       "    }\n",
       "</style>\n",
       "<table border=\"1\" class=\"dataframe\">\n",
       "  <thead>\n",
       "    <tr style=\"text-align: right;\">\n",
       "      <th></th>\n",
       "      <th>sim_id</th>\n",
       "      <th>created_at</th>\n",
       "      <th>iteration</th>\n",
       "      <th>modelName</th>\n",
       "      <th>designName</th>\n",
       "      <th>type</th>\n",
       "      <th>layers</th>\n",
       "      <th>params</th>\n",
       "      <th>paramValues</th>\n",
       "      <th>fMin(GHz)</th>\n",
       "      <th>fMax(GHz</th>\n",
       "      <th>metric</th>\n",
       "      <th>freq</th>\n",
       "      <th>value</th>\n",
       "    </tr>\n",
       "  </thead>\n",
       "  <tbody>\n",
       "  </tbody>\n",
       "</table>\n",
       "</div>"
      ],
      "text/plain": [
       "Empty DataFrame\n",
       "Columns: [sim_id, created_at, iteration, modelName, designName, type, layers, params, paramValues, fMin(GHz), fMax(GHz, metric, freq, value]\n",
       "Index: []"
      ]
     },
     "execution_count": 24,
     "metadata": {},
     "output_type": "execute_result"
    }
   ],
   "source": [
    "\n",
    "\n",
    "columnNames={ \"sim_id\":\"object\",\n",
    "               \"created_at\":\"datetime64[s]\",\n",
    "               \"iteration\":'int64',\n",
    "               \"modelName\":'object',\n",
    "                 \"model\":'object',\n",
    "               \"designName\":'object',\n",
    "               \"type\":'object',\n",
    "               \"layers\":'object',\n",
    "               \"params\":'object',\n",
    "               \"paramValues\":'object',\n",
    "               \"fMin(GHz)\":'float64',\n",
    "               \"fMax(GHz\":'float64',\n",
    "               \"metric\":'object', \n",
    "               \"freq\":'float64',\n",
    "               \"value\":'float64'}\n",
    "\n",
    "\n",
    "dbManager.load_df(columns=columnNames)\n",
    "\n",
    "\n",
    "\"\"\"This object can be treated as a pandas dataframe\"\"\"\n",
    "dbManager.df    \n",
    "             "
   ]
  },
  {
   "cell_type": "markdown",
   "id": "1c3cadb6-b22a-48aa-8a0c-97793a887c49",
   "metadata": {},
   "source": [
    "## A sample of data structure to log in our DB\n"
   ]
  },
  {
   "cell_type": "code",
   "execution_count": 25,
   "id": "4e6f61a8-d02a-4e8d-9545-420ce74af426",
   "metadata": {},
   "outputs": [],
   "source": [
    "#create structs and data to store\n",
    "layers= {\n",
    "         \"layer1\":{\n",
    "             \"thickness\":0.1,\n",
    "             \"material\":\"copper\"\n",
    "         },\n",
    "         \"layer2\":{\n",
    "             \"thickness\":0.8,\n",
    "             \"material\":\"dielectric1\"\n",
    "         } ,\n",
    "         \"layer2\":{\n",
    "             \"thickness\":0.1,\n",
    "             \"material\":\"copper\"\n",
    "         }\n",
    "    }\n",
    "\n",
    "params=['radius']\n",
    "values=[0.3]\n",
    "\n",
    "\n",
    "\"\"\"For trial. The real case needs to loop over the entire data from HFSS to load ech frequency point\"\"\"\n",
    "\n",
    "data_to_store= {\"sim_id\":\"simid123456\",\n",
    "            \"created_at\":\"'1970-01-01T00:00:00Z'\",\n",
    "                \"iteration\":'0',\n",
    "             \"modelName\":\"meta-atom_box_01_datageneration\",\n",
    "            \"model\":\"box\",\n",
    "             \"designName\":'HFSSDesign1',\n",
    "             \"type\":'Reflective',\n",
    "             \"layers\":layers,\n",
    "             \"params\":params,\n",
    "             \"paramValues\":values,\n",
    "             \"fMin(GHz)\":5,\n",
    "             \"fMax(GHz)\":10,\n",
    "             \"metric\":\"ReflectanceTE\", \n",
    "             \"freq\":8.15,\n",
    "            \"value\":0.556}\n",
    "\n",
    "\n"
   ]
  },
  {
   "cell_type": "code",
   "execution_count": 26,
   "id": "a5da1040-f7dd-4dc4-ae27-1f27731492c0",
   "metadata": {},
   "outputs": [],
   "source": [
    "dbManager.insert_row(data_to_store)"
   ]
  },
  {
   "cell_type": "markdown",
   "id": "64ae1a77-02b4-4a0e-8740-c8c269123f78",
   "metadata": {},
   "source": [
    "# 2. A full batch of simulation with data storage"
   ]
  },
  {
   "cell_type": "code",
   "execution_count": 1,
   "id": "407aaeee-d95b-4693-925b-295b8093096d",
   "metadata": {
    "tags": []
   },
   "outputs": [
    {
     "name": "stdout",
     "output_type": "stream",
     "text": [
      "Requirement already satisfied: opencv-python in c:\\users\\jorge\\anaconda3\\envs\\ai\\lib\\site-packages (4.8.1.78)\n",
      "Requirement already satisfied: numpy>=1.21.2 in c:\\users\\jorge\\anaconda3\\envs\\ai\\lib\\site-packages (from opencv-python) (1.24.3)\n",
      "Note: you may need to restart the kernel to use updated packages.\n",
      "Requirement already satisfied: imutils in c:\\users\\jorge\\anaconda3\\envs\\ai\\lib\\site-packages (0.5.4)\n",
      "Note: you may need to restart the kernel to use updated packages.\n",
      "The new Exports directory is created!\n",
      "The new Images directory is created!\n"
     ]
    },
    {
     "data": {
      "text/plain": [
       "'If creating a model is required then:'"
      ]
     },
     "execution_count": 1,
     "metadata": {},
     "output_type": "execute_result"
    }
   ],
   "source": [
    "\n",
    "\n",
    "#import sys  \n",
    "#sys.path.insert(0, './src/')\n",
    "\n",
    "import os\n",
    "import uuid \n",
    "from datetime import datetime\n",
    "\n",
    "\n",
    "from __future__ import print_function\n",
    "#from Utilities.SaveAnimation import Video\n",
    "from dbuilder import Manager as MG\n",
    "\n",
    "from glob import glob\n",
    "import matplotlib.pyplot as plt\n",
    "import re\n",
    "from dbuilder.modules import tools\n",
    "\n",
    "\n",
    "ansysPath=\"C:\\\\Program Files\\\\AnsysEM\\\\AnsysEM21.2\\\\Win64\\\\ansysedt.exe\"\n",
    "modelName=\"box_01_freq_reflect\"\n",
    "scriptPath=r\"C:\\\\Users\\\\jorge\\\\Documents\\\\Projects Jorge C\\\\DRUIDA PROJECT\\\\POC\\\\dbGeneration_v0\\\\Models\\\\testing-multioutput\\\\scripts\\\\\"\n",
    "\n",
    "modelPath=r\"C:\\\\Users\\\\jorge\\\\Documents\\\\Projects Jorge C\\\\DRUIDA PROJECT\\\\POC\\\\dbGeneration_v0\\\\Models\\\\testing-multioutput\\\\\"\n",
    "exportPath= \"C:\\\\Users\\\\jorge\\\\Documents\\\\Projects Jorge C\\\\DRUIDA PROJECT\\\\POC\\\\dbGeneration_v0\\\\Exports\"\n",
    "dBPath= \"C:\\\\Users\\\\jorge\\\\Documents\\\\Projects Jorge C\\\\DRUIDA PROJECT\\\\POC\\\\dbGeneration_v0\\\\DBfiles\\\\\"\n",
    "imagesPath=\"C:\\\\Users\\\\jorge\\\\Documents\\\\Projects Jorge C\\\\DRUIDA PROJECT\\\\POC\\\\dbGeneration_v0\\\\Images\"\n",
    "\n",
    "#simulating box shaped meta atom\n",
    "project_name=\"meta-atom_box_01_datageneration\"\n",
    "designName=\"HFSSDesign1\"\n",
    "modeltype=\"Reflective\"\n",
    "\n",
    "#set simulation variables\n",
    "#This is run to create iterative simulations\n",
    "Builder=MG.Builder(ansysPath=ansysPath,\n",
    "                   modelName=modelName,\n",
    "                   projectName=project_name, \n",
    "                   designName=designName,\n",
    "                   modelPath=modelPath,\n",
    "                   scriptPath=scriptPath,\n",
    "                   exportPath=exportPath,\n",
    "                   imagesPath=imagesPath)\n",
    "\n",
    "\"\"\"If creating a model is required then:\"\"\"\n",
    "#Builder.create()"
   ]
  },
  {
   "cell_type": "code",
   "execution_count": 2,
   "id": "636991c8-0a62-4829-8c21-75d3914cb07f",
   "metadata": {
    "tags": []
   },
   "outputs": [],
   "source": [
    "#Generate batch of vectors to simulate\n",
    "\"\"\"This function must be custom made\"\"\"\n",
    "import random\n",
    "\n",
    "def parameters_Generator(constraints, batch_size, vector_size):\n",
    "    x = [[0 for i in range(vector_size)] for j in range(batch_size)]\n",
    "\n",
    "    for vector in x:\n",
    "        for i, (k, v) in enumerate(constraints.items()):\n",
    "            vector[i]=random.uniform(constraints[k][\"max\"], constraints[k][\"min\"])\n",
    "            \n",
    "    return x\n",
    "    \n"
   ]
  },
  {
   "cell_type": "code",
   "execution_count": 3,
   "id": "65797a13-7634-45af-99ae-bc380056dbee",
   "metadata": {
    "tags": []
   },
   "outputs": [
    {
     "name": "stdout",
     "output_type": "stream",
     "text": [
      "The new DB directory is created!\n"
     ]
    }
   ],
   "source": [
    "#Simulation setting\n",
    "batch=0\n",
    "batch_size=2\n",
    "batches=2\n",
    "iteration=0\n",
    "simfile_path= \"C:\\\\Users\\\\jorge\\\\Documents\\\\Projects Jorge C\\\\DRUIDA PROJECT\\\\POC\\\\dbGeneration_v0\\\\\"\n",
    "simfileName= \"intermediateFile.py\"\n",
    "\n",
    "#set reports\n",
    "reports={\n",
    "    \"ReflectanceTE\":\"(mag(S(FloquetPort1:1,FloquetPort1:1)))^2\",\n",
    "    \"ReflectanceTM\":\"(mag(S(FloquetPort1:2,FloquetPort1:2)))^2\",\n",
    "    \"TransmittanceTE\":\"(mag(S(FloquetPort2:1,FloquetPort2:1)))^2\",\n",
    "    \"TransmittanceTM\":\"(mag(S(FloquetPort2:2,FloquetPort2:2)))^2\",\n",
    "    \"AbsorbanceTE\":\"1-((mag(S(FloquetPort1:1,FloquetPort1:1)))^2 +(mag(S(FloquetPort2:1,FloquetPort1:1)))^2)\",\n",
    "    \"AbsorbanceTM\":\"1-((mag(S(FloquetPort1:2,FloquetPort1:2)))^2 +(mag(S(FloquetPort2:2,FloquetPort1:2)))^2)\"\n",
    "    }\n",
    "\n",
    "constraints = {\"xize\":{\"max\":4, \"min\":0.3,\"nominaSl\":1},\n",
    "            \"ySize\":{\"max\":4, \"min\":0.3,\"nominal\":1},\n",
    "            \"zSize\":{\"max\":0.08, \"min\":0.6,\"nominal\":0.5},\n",
    "            \"zSustrato\":{\"max\":1.5, \"min\":0.5,\"nominal\":1}}\n",
    "\n",
    "parameters = parameters_Generator(constraints, batch_size=batch_size, vector_size=len(list(constraints.keys()) ))\n",
    "\n",
    "#Data setting\n",
    "\n",
    "now=datetime.now()\n",
    "dbName=modelName+' batch'+str(batch)+\" \"+str(now)[:10]+'.csv'\n",
    "\n",
    "dbManager=MG.DBManager(ansysPath=ansysPath,\n",
    "                       modelName=modelName,\n",
    "                       projectName=project_name,\n",
    "                       designName=designName,\n",
    "                       modelPath=modelPath, \n",
    "                       dbPath=dBPath,\n",
    "                      dbName=dbName)\n",
    "\n",
    "\n"
   ]
  },
  {
   "cell_type": "code",
   "execution_count": 4,
   "id": "b3e2d364-c5e8-439a-81f4-e063f4e734dc",
   "metadata": {
    "tags": []
   },
   "outputs": [
    {
     "data": {
      "text/html": [
       "<div>\n",
       "<style scoped>\n",
       "    .dataframe tbody tr th:only-of-type {\n",
       "        vertical-align: middle;\n",
       "    }\n",
       "\n",
       "    .dataframe tbody tr th {\n",
       "        vertical-align: top;\n",
       "    }\n",
       "\n",
       "    .dataframe thead th {\n",
       "        text-align: right;\n",
       "    }\n",
       "</style>\n",
       "<table border=\"1\" class=\"dataframe\">\n",
       "  <thead>\n",
       "    <tr style=\"text-align: right;\">\n",
       "      <th></th>\n",
       "      <th>sim_id</th>\n",
       "      <th>created_at</th>\n",
       "      <th>iteration</th>\n",
       "      <th>projectName</th>\n",
       "      <th>modelName</th>\n",
       "      <th>designName</th>\n",
       "      <th>type</th>\n",
       "      <th>layers</th>\n",
       "      <th>params</th>\n",
       "      <th>paramValues</th>\n",
       "      <th>units</th>\n",
       "      <th>fMin(GHz)</th>\n",
       "      <th>fMax(GHz</th>\n",
       "      <th>metric</th>\n",
       "      <th>freq</th>\n",
       "      <th>value</th>\n",
       "    </tr>\n",
       "  </thead>\n",
       "  <tbody>\n",
       "  </tbody>\n",
       "</table>\n",
       "</div>"
      ],
      "text/plain": [
       "Empty DataFrame\n",
       "Columns: [sim_id, created_at, iteration, projectName, modelName, designName, type, layers, params, paramValues, units, fMin(GHz), fMax(GHz, metric, freq, value]\n",
       "Index: []"
      ]
     },
     "execution_count": 4,
     "metadata": {},
     "output_type": "execute_result"
    }
   ],
   "source": [
    "\n",
    "\n",
    "columnNames={ \"sim_id\":\"object\",\n",
    "               \"created_at\":\"datetime64[s]\",\n",
    "               \"iteration\":'int64',\n",
    "               \"projectName\":'object',\n",
    "                 \"modelName\":'object',\n",
    "               \"designName\":'object',\n",
    "               \"type\":'object',\n",
    "               \"layers\":'object',\n",
    "               \"params\":'object',\n",
    "               \"paramValues\":'object',\n",
    "             \"units\":'object',\n",
    "               \"fMin(GHz)\":'float64',\n",
    "               \"fMax(GHz\":'float64',\n",
    "               \"metric\":'object', \n",
    "               \"freq\":'float64',\n",
    "               \"value\":'float64'}\n",
    "\n",
    "\n",
    "dbManager.load_df(columns=columnNames)\n",
    "\n",
    "\n",
    "\"\"\"This object can be treated as a pandas dataframe\"\"\"\n",
    "dbManager.df    \n",
    "             "
   ]
  },
  {
   "cell_type": "code",
   "execution_count": 5,
   "id": "5d5b5e56-ce2d-4879-91b4-17c1539b4876",
   "metadata": {
    "tags": []
   },
   "outputs": [],
   "source": [
    "#Describe the layers used in your model\n",
    "#create structs and data to store\n",
    "layers= {\n",
    "         \"layer1\":{\n",
    "             \"thickness\":0.1,\n",
    "             \"material\":\"copper\"\n",
    "         },\n",
    "         \"layer2\":{\n",
    "             \"thickness\":0.8,\n",
    "             \"material\":\"dielectric1\"\n",
    "         } ,\n",
    "         \"layer2\":{\n",
    "             \"thickness\":0.1,\n",
    "             \"material\":\"copper\"\n",
    "         }\n",
    "    }\n",
    "\n",
    "\n",
    "\n"
   ]
  },
  {
   "cell_type": "code",
   "execution_count": 6,
   "id": "20b50bf0-2c10-4898-861f-6843c8e5240d",
   "metadata": {
    "tags": []
   },
   "outputs": [
    {
     "name": "stdout",
     "output_type": "stream",
     "text": [
      "\"C:\\\\Users\\\\jorge\\\\Documents\\\\Projects Jorge C\\\\DRUIDA PROJECT\\\\POC\\\\dbGeneration_v0\\\\Models\\\\testing-multioutput\\\\meta-atom_box_01_datageneration.aedt\"\n",
      "The new directory is created!\n",
      "The new directory is created!\n",
      "\"C:\\\\Users\\\\jorge\\\\Documents\\\\Projects Jorge C\\\\DRUIDA PROJECT\\\\POC\\\\dbGeneration_v0\\\\Models\\\\testing-multioutput\\\\meta-atom_box_01_datageneration.aedt\"\n"
     ]
    }
   ],
   "source": [
    "simulation_id=str(uuid.uuid1())\n",
    "\n",
    "for parameter in parameters:\n",
    "    \n",
    "    \n",
    "    #parameters, batch, iteration, filePath, **kwargs\n",
    "    #Kwargs\n",
    "    #AnsoftPath=kwargs['ansoft_path']\n",
    "    #modelPath=kwargs['model_path'] \n",
    "    #outputPath=kwargs['output_path']\n",
    "    #projectName=kwargs['project_name']\n",
    "    #simulationID=kwargs['simulation_id']\n",
    "    #variableName=kwargs['variable_name']\n",
    "    #value=kwargs['value']\n",
    "    #units=kwargs['units']\n",
    "    #design=kwargs['design_name']\n",
    "\n",
    "    #Create the intermediate simulation fiel\n",
    "    \n",
    "    \n",
    "\n",
    "    #set variables to modify\n",
    "    variable_name='parameters'\n",
    "    value=str(parameter)\n",
    "\n",
    "    units=\"mm\"\n",
    "    \n",
    "    kwargs={\n",
    "        \"reports\":reports,\n",
    "        \"simulation_id\":simulation_id,\n",
    "       \"variable_name\":variable_name,\n",
    "        \"value\" : value,\n",
    "        \"units\" : units,\n",
    "       }\n",
    "    \n",
    "    Builder.sim_file('', batch, iteration, simfile_path, **kwargs)\n",
    "    \n",
    "    Builder.simulate(simfile_path+simfileName)\n",
    "    \n",
    "\n",
    "    \"\"\"For trial. The real case needs to loop over the entire data from HFSS to load ech frequency point\"\"\"\n",
    "\n",
    "    data_to_store= {\"sim_id\":str(simulation_id),\n",
    "                \"created_at\":str(now)[:10],\n",
    "                    \"iteration\":str(iteration),\n",
    "                 \"projectName\":project_name,\n",
    "                \"modelName\":modelName,\n",
    "                 \"designName\":designName,\n",
    "                 \"type\":modeltype,\n",
    "                 \"layers\":layers,\n",
    "                 \"params\":str(variable_name),\n",
    "                 \"paramValues\":str(value),\n",
    "                    \"units\":str(units),\n",
    "                 \"fMin(GHz)\":5,\n",
    "                 \"fMax(GHz)\":10,\n",
    "                 \"metric\":str(reports), \n",
    "                 \"freq\":'',\n",
    "                \"value\":''}\n",
    "    \n",
    "    dbManager.insert_row(data_to_store)\n",
    "    \n",
    "    iteration=iteration+1\n"
   ]
  },
  {
   "cell_type": "markdown",
   "id": "a157b506-e6fb-4fb9-9c00-545599f0d849",
   "metadata": {},
   "source": [
    "## Post processing images\n"
   ]
  },
  {
   "cell_type": "code",
   "execution_count": 7,
   "id": "37453e26-a5df-42b1-9444-cec773ce7e36",
   "metadata": {},
   "outputs": [],
   "source": [
    "\n",
    "folders=glob(imagesPath+\"/*/\", recursive = True)\n",
    "files=[]\n",
    "\n",
    "for folder in folders:\n",
    "    if folder != imagesPath+\"\\\\\"+ \"processed\\\\\":\n",
    "        files=(files+glob(folder+\"/*\"))\n",
    "\n"
   ]
  },
  {
   "cell_type": "code",
   "execution_count": 8,
   "id": "5847f184-4a91-4c2b-9b1d-a7f1e364ae73",
   "metadata": {
    "tags": []
   },
   "outputs": [
    {
     "name": "stdout",
     "output_type": "stream",
     "text": [
      "The new directory is created!\n"
     ]
    }
   ],
   "source": [
    "\n",
    "for file in files:\n",
    "    fileName_absolute = os.path.basename(file) \n",
    "    path=os.path.dirname(file)\n",
    "\n",
    "    #ROI is \n",
    "    image_rgb=tools.cropImage( file,image_path=path,\n",
    "                              image_name=fileName_absolute,\n",
    "                              output_path=imagesPath, \n",
    "                             resize_dim=(512,512))\n",
    "        \n"
   ]
  },
  {
   "cell_type": "code",
   "execution_count": null,
   "id": "4301cf19-1459-47a1-8ec9-249e5ba695d4",
   "metadata": {},
   "outputs": [],
   "source": []
  }
 ],
 "metadata": {
  "kernelspec": {
   "display_name": "Python 3 (ipykernel)",
   "language": "python",
   "name": "python3"
  },
  "language_info": {
   "codemirror_mode": {
    "name": "ipython",
    "version": 3
   },
   "file_extension": ".py",
   "mimetype": "text/x-python",
   "name": "python",
   "nbconvert_exporter": "python",
   "pygments_lexer": "ipython3",
   "version": "3.11.4"
  }
 },
 "nbformat": 4,
 "nbformat_minor": 5
}
