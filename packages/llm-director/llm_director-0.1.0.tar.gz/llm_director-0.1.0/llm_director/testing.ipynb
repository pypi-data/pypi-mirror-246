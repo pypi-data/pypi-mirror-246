{
 "cells": [
  {
   "cell_type": "code",
   "execution_count": 1,
   "metadata": {},
   "outputs": [],
   "source": [
    "from base.director import Director\n",
    "from base.blocks import Action, Split, Condition, Termination, Save\n",
    "import asyncio\n",
    "\n",
    "# auto-reload for development\n",
    "%load_ext autoreload \n",
    "%autoreload 2"
   ]
  },
  {
   "cell_type": "code",
   "execution_count": 25,
   "metadata": {},
   "outputs": [],
   "source": [
    "class Action1(Action):\n",
    "    async def forward(self, data, args: dict = None):\n",
    "        result = f\"{data} Action1 Complete,\"\n",
    "        return result\n",
    "\n",
    "class Action2(Action):\n",
    "    async def forward(self, data, args: dict = None):\n",
    "        result = f\"{data} Action2 Complete,\"#, f\"{data} Action2 Complete on try 2,\"]\n",
    "        return result\n",
    "\n",
    "class Action3(Action):\n",
    "    async def forward(self, data, args: dict = None):\n",
    "        input_arg = args[\"hello world\"]\n",
    "        result = f\"{data} Action3 Complete adding {input_arg}\"\n",
    "        return result\n",
    "\n",
    "class CustomSplit(Split):\n",
    "    async def forward(self, data, args: dict = None):\n",
    "        output = [data, data]\n",
    "        return output\n",
    "\n",
    "class CustomCondition(Condition):\n",
    "    async def forward(self, data, args: dict = None):\n",
    "        if len(data) > 50:\n",
    "            return True\n",
    "        return False\n",
    "\n",
    "director = Director(max_concurrent_actions=100, depth_first=True)\n",
    "\n",
    "perform_action1 = Action1(\"Action 1\")\n",
    "perform_action2 = Action2(\"Action 2\")\n",
    "perform_action2b = CustomSplit(\"Action 2b\")\n",
    "perform_action3 = Action3(\"Action 3\")\n",
    "condition_1 = CustomCondition(\"Condition 1\")\n",
    "save_agent = Save(\"Example Output\", \"example_output.txt\")\n",
    "director.subscribe(\"Initial Call\", perform_action1)\n",
    "director.subscribe(\"Action 1\", perform_action2)\n",
    "director.subscribe(\"Action 2\", perform_action2b)\n",
    "director.subscribe(\"Action 2b\", perform_action3)\n",
    "director.subscribe(\"Action 2b\", condition_1)\n",
    "director.subscribe(\"Condition 1\", save_agent)"
   ]
  },
  {
   "cell_type": "code",
   "execution_count": 26,
   "metadata": {},
   "outputs": [
    {
     "data": {
      "text/plain": [
       "[{'event_name': 'Action 3',\n",
       "  'result': 'Testing the director with Action1 Complete, Action2 Complete, Action3 Complete adding hello world'},\n",
       " {'event_name': 'Action 3',\n",
       "  'result': 'Testing the director with Action1 Complete, Action2 Complete, Action3 Complete adding hello world'}]"
      ]
     },
     "execution_count": 26,
     "metadata": {},
     "output_type": "execute_result"
    }
   ],
   "source": [
    "args = {\"hello world\": \"hello world\"}\n",
    "await director(\"Initial Call\", \"Testing the director with\", flatten_results = True, completion_results = True, args = args)"
   ]
  },
  {
   "cell_type": "code",
   "execution_count": 20,
   "metadata": {},
   "outputs": [
    {
     "data": {
      "text/plain": [
       "[]"
      ]
     },
     "execution_count": 20,
     "metadata": {},
     "output_type": "execute_result"
    }
   ],
   "source": [
    "save_agent.get_history(include_timestamp=True, delete_history=True)"
   ]
  },
  {
   "cell_type": "code",
   "execution_count": 27,
   "metadata": {},
   "outputs": [
    {
     "data": {
      "text/plain": [
       "deque([\"Processing events for 'Initial Call'\",\n",
       "       \"Processing events for 'Action 1'\",\n",
       "       \"Processing events for 'Action 2'\",\n",
       "       \"Splitting 'Action 2b'\",\n",
       "       \"Processing events for 'Action 2b'\",\n",
       "       \"No listeners for 'Action 3'\",\n",
       "       \"Condition 'Condition 1' failed\",\n",
       "       \"Events for 'Action 2b' completed\",\n",
       "       \"Processing events for 'Action 2b'\",\n",
       "       \"No listeners for 'Action 3'\",\n",
       "       \"Condition 'Condition 1' failed\",\n",
       "       \"Events for 'Action 2b' completed\",\n",
       "       \"Events for 'Action 2' completed\",\n",
       "       \"Events for 'Action 1' completed\",\n",
       "       \"Events for 'Initial Call' completed\"],\n",
       "      maxlen=1000000)"
      ]
     },
     "execution_count": 27,
     "metadata": {},
     "output_type": "execute_result"
    }
   ],
   "source": [
    "director.logs"
   ]
  },
  {
   "cell_type": "code",
   "execution_count": 6,
   "metadata": {},
   "outputs": [
    {
     "name": "stdout",
     "output_type": "stream",
     "text": [
      "Status Code: 200\n",
      "Response Body: [{'event_name': 'Action 1', 'result': \"{'key': 'value'} Action1 Complete,\"}, {'event_name': 'Action 2', 'result': \"{'key': 'value'} Action1 Complete, Action2 Complete,\"}, {'event_name': 'Action 2b', 'result': [\"{'key': 'value'} Action1 Complete, Action2 Complete,\", \"{'key': 'value'} Action1 Complete, Action2 Complete,\"]}, {'event_name': 'Action 3', 'result': \"{'key': 'value'} Action1 Complete, Action2 Complete, Action3 Complete \"}, {'event_name': 'Action 2b', 'result': [\"{'key': 'value'} Action1 Complete, Action2 Complete,\", \"{'key': 'value'} Action1 Complete, Action2 Complete,\"]}, {'event_name': 'Action 3', 'result': \"{'key': 'value'} Action1 Complete, Action2 Complete, Action3 Complete \"}]\n"
     ]
    }
   ],
   "source": [
    "import requests\n",
    "import json\n",
    "\n",
    "# URL of the endpoint\n",
    "url = \"http://0.0.0.0:8000/api/Initial Call\"\n",
    "\n",
    "# Data to be sent - adjust this according to your actual data requirements\n",
    "data = {\n",
    "    \"key\": \"value\"\n",
    "}\n",
    "\n",
    "# Send a POST request\n",
    "response = requests.post(url, json=data)\n",
    "\n",
    "# Print the response from the server\n",
    "print(\"Status Code:\", response.status_code)\n",
    "print(\"Response Body:\", response.json())\n"
   ]
  },
  {
   "cell_type": "code",
   "execution_count": null,
   "metadata": {},
   "outputs": [],
   "source": []
  },
  {
   "cell_type": "code",
   "execution_count": null,
   "metadata": {},
   "outputs": [],
   "source": []
  }
 ],
 "metadata": {
  "kernelspec": {
   "display_name": "declass",
   "language": "python",
   "name": "python3"
  },
  "language_info": {
   "codemirror_mode": {
    "name": "ipython",
    "version": 3
   },
   "file_extension": ".py",
   "mimetype": "text/x-python",
   "name": "python",
   "nbconvert_exporter": "python",
   "pygments_lexer": "ipython3",
   "version": "3.10.13"
  }
 },
 "nbformat": 4,
 "nbformat_minor": 2
}
