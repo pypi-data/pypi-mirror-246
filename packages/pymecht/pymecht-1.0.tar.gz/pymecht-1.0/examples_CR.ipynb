{
 "cells": [
  {
   "cell_type": "code",
   "execution_count": null,
   "id": "a081e150-3020-4035-b775-0cba443e05a0",
   "metadata": {},
   "outputs": [],
   "source": [
    "import pymecht as pmt\n",
    "import numpy as np"
   ]
  },
  {
   "cell_type": "markdown",
   "id": "e5cb9d3a-0558-4ac9-8150-1a08ee8ec01a",
   "metadata": {
    "tags": []
   },
   "source": [
    "## Definition of the material model"
   ]
  },
  {
   "cell_type": "code",
   "execution_count": null,
   "id": "1c774857-6c07-4fd0-a2ca-2a393d17565f",
   "metadata": {},
   "outputs": [],
   "source": [
    "mat1 = pmt.MatModel('yeoh')\n",
    "print(mat1.parameters) # Returns parameters as a dictionary"
   ]
  },
  {
   "cell_type": "code",
   "execution_count": null,
   "id": "3c58fd09-4531-4da2-86d3-c8ab1b9c4349",
   "metadata": {},
   "outputs": [],
   "source": [
    "print(mat1.parameters['c1_0'])\n",
    "type(mat1.parameters['c1_0'])"
   ]
  },
  {
   "cell_type": "markdown",
   "id": "e2e66ed6-3282-49ad-abfc-22f01e40a4ce",
   "metadata": {
    "tags": []
   },
   "source": [
    "Combine two materials"
   ]
  },
  {
   "cell_type": "code",
   "execution_count": null,
   "id": "c7043b37-4fef-4bc8-a595-01bee56fee43",
   "metadata": {},
   "outputs": [],
   "source": [
    "mat2 = pmt.GOH()\n",
    "model = pmt.MatModel('Yeoh',mat2)\n",
    "\n",
    "# model = pmt.MatModel(mat1,mat2) #Another way to combine two materials "
   ]
  },
  {
   "cell_type": "markdown",
   "id": "a3c1f9df-03fa-455a-9826-76c9d82ac880",
   "metadata": {},
   "source": [
    "Define fiber directions"
   ]
  },
  {
   "cell_type": "code",
   "execution_count": null,
   "id": "48671b27-27ac-46b9-a494-c90f492e7909",
   "metadata": {},
   "outputs": [],
   "source": [
    "# model.models[0].fiber_dirs = [np.array([0,cos(0.1),sin(0.1)]),np.array([0,cos(-0.1),sin(-0.1)])] #Attributes fiber directions to the first material \n",
    "model.models[1].fiber_dirs = [np.array([0,np.cos(0.1),np.sin(0.1)]),np.array([0,np.cos(-0.1),np.sin(-0.1)])] #Attributes fiber directions to the second material "
   ]
  },
  {
   "cell_type": "code",
   "execution_count": null,
   "id": "3a059989-f2f8-4a75-8436-862f8ed562a3",
   "metadata": {},
   "outputs": [],
   "source": [
    "model.parameters \n",
    "#parameters with index 0 correspond to the first material in model #parameters with index 1 correspond to the second"
   ]
  },
  {
   "cell_type": "markdown",
   "id": "2a523d3e-3377-4874-b7fb-6a8a494cd47e",
   "metadata": {
    "tags": []
   },
   "source": [
    "## Sample & parameter definition"
   ]
  },
  {
   "cell_type": "code",
   "execution_count": null,
   "id": "498b3a6a-f414-4aa2-a745-29fd6bd9bb88",
   "metadata": {},
   "outputs": [],
   "source": [
    "sample = pmt.UniformAxisymmetricTubeInflationExtension(model, force_measure='pressure')\n",
    "print(sample)\n",
    "params = sample.parameters\n",
    "params #Additional sample parameters are added to the dictionnary"
   ]
  },
  {
   "cell_type": "markdown",
   "id": "a5968211-fc99-4b20-9d4c-efeb50f4d881",
   "metadata": {},
   "source": [
    "Set parameters to a specific value"
   ]
  },
  {
   "cell_type": "code",
   "execution_count": null,
   "id": "3b23305d-dde4-464e-94cc-7a47bd34e0b0",
   "metadata": {},
   "outputs": [],
   "source": [
    "params.set('Ri', 9) \n",
    "params.set('thick', 2)\n",
    "params.set('omega', 0)\n",
    "params.set('L0', 1)\n",
    "params.set('lambdaZ', 1)\n",
    "params.set('c1_0', 28)\n",
    "params.set('c2_0', 21)\n",
    "params.set('c3_0', 8)\n",
    "params.set('c4_0', 1)\n",
    "params.set('k1_1',5.)\n",
    "params.set('k2_1',15)\n",
    "params.set('k3_1',0.1)\n",
    "params"
   ]
  },
  {
   "cell_type": "markdown",
   "id": "310d28a5-e823-404e-bacc-48b4feacfc4f",
   "metadata": {},
   "source": [
    "Fix parameters"
   ]
  },
  {
   "cell_type": "code",
   "execution_count": null,
   "id": "7f19d749-e78a-4ffe-803c-0459d667e0ce",
   "metadata": {},
   "outputs": [],
   "source": [
    "params.fix('Ri')\n",
    "params.fix('thick')\n",
    "params.fix('omega')\n",
    "params.fix('L0')\n",
    "params.fix('lambdaZ')\n",
    "params"
   ]
  },
  {
   "cell_type": "code",
   "execution_count": null,
   "id": "f878169a-1e51-4fb8-8cb7-b63a7e4bbf51",
   "metadata": {},
   "outputs": [],
   "source": [
    "sample #Recaps the material model and sample created"
   ]
  },
  {
   "cell_type": "markdown",
   "id": "71afc466-cd45-40df-9f71-1659dfa7582a",
   "metadata": {},
   "source": [
    "## Run the test"
   ]
  },
  {
   "cell_type": "markdown",
   "id": "fd8a539a-6896-43d0-89e6-d34ff48aef84",
   "metadata": {},
   "source": [
    "Force control"
   ]
  },
  {
   "cell_type": "code",
   "execution_count": null,
   "id": "9fbaaa0a-91d0-4de6-b964-c2468cefb7e4",
   "metadata": {},
   "outputs": [],
   "source": [
    "from matplotlib import pyplot as plt\n",
    "inp = np.linspace(1,20,100)\n",
    "plt.plot(inp,sample.force_controlled(inp,params)) \n",
    "plt.ylabel('Internal radius in mm')\n",
    "plt.xlabel('Internal pressure in kPa')\n",
    "plt.title('Force control plot')\n",
    "plt.show()"
   ]
  },
  {
   "cell_type": "markdown",
   "id": "4e3f9787-0475-43d2-9afe-6d08c8b425f1",
   "metadata": {},
   "source": [
    "Displacement control"
   ]
  },
  {
   "cell_type": "code",
   "execution_count": null,
   "id": "f1d4b739-b9cf-4ab4-bb37-4568b2814b5e",
   "metadata": {},
   "outputs": [],
   "source": [
    "from matplotlib import pyplot as plt\n",
    "inp = np.linspace(9,12,100)\n",
    "plt.plot(inp,sample.disp_controlled(inp,params)) \n",
    "plt.ylabel('Internal pressure in kPa')\n",
    "plt.xlabel('Internal radius in mm')\n",
    "plt.title('Displacement control plot')\n",
    "plt.show()"
   ]
  },
  {
   "cell_type": "markdown",
   "id": "13433afa-6309-41c4-84a2-8598d51711d2",
   "metadata": {
    "tags": []
   },
   "source": [
    "## Stress across the thickness for a given radius"
   ]
  },
  {
   "cell_type": "code",
   "execution_count": null,
   "id": "edf28232-b856-4848-8744-e5b2b44693a6",
   "metadata": {},
   "outputs": [],
   "source": [
    "xi,stress = sample.cauchy_stress([10], params)"
   ]
  },
  {
   "cell_type": "code",
   "execution_count": null,
   "id": "619008ce-4595-4039-a466-b6055d70068b",
   "metadata": {},
   "outputs": [],
   "source": [
    "def von_mises(sigma_list):\n",
    "    return [sqrt(3./2.)*np.linalg.norm(sigma-np.trace(sigma)/3.*np.eye(3)) for sigma in sigma_list]\n",
    "\n",
    "plt.plot(xi,von_mises(stress))\n",
    "plt.xlabel('Normalized thickness')\n",
    "plt.ylabel('von-Mises stress')\n",
    "plt.show()"
   ]
  },
  {
   "cell_type": "markdown",
   "id": "776a3f45-9611-4786-a726-be08a37536a1",
   "metadata": {},
   "source": [
    "## Least square fitting"
   ]
  },
  {
   "cell_type": "code",
   "execution_count": null,
   "id": "c665b0f1-690e-44c7-8162-ab94be9c24d1",
   "metadata": {},
   "outputs": [],
   "source": [
    "applied_radius = np.linspace(9,12,20)\n",
    "measured_pressure = np.linspace(0,10,20)\n",
    "def sim_func(param):\n",
    "    return sample.disp_controlled(applied_radius,param)\n",
    "\n",
    "param_fitter = pmt.ParamFitter(sim_func,measured_pressure,params)"
   ]
  },
  {
   "cell_type": "code",
   "execution_count": null,
   "id": "b904bd23-dccc-4dbf-adfb-460fb2805bc3",
   "metadata": {},
   "outputs": [],
   "source": [
    "res = param_fitter.fit()"
   ]
  },
  {
   "cell_type": "code",
   "execution_count": null,
   "id": "db0bf90e-5fbf-4c30-9555-eeb1b6089185",
   "metadata": {},
   "outputs": [],
   "source": [
    "print(params)"
   ]
  },
  {
   "cell_type": "code",
   "execution_count": null,
   "id": "7dd89950-4fab-43d9-bd6d-7b2ae08c23b5",
   "metadata": {},
   "outputs": [],
   "source": [
    "\n",
    "plt.plot(applied_radius,sample.disp_controlled(applied_radius,params)) \n",
    "plt.plot(applied_radius,measured_pressure,'o')\n",
    "plt.ylabel('Internal pressure in kPa')\n",
    "plt.xlabel('Internal radius in mm')\n",
    "plt.title('Displacement control plot')\n",
    "plt.show()\n"
   ]
  },
  {
   "cell_type": "code",
   "execution_count": null,
   "id": "22219f61-996b-48d9-a2d5-ebe96e8e09a9",
   "metadata": {},
   "outputs": [],
   "source": []
  },
  {
   "cell_type": "code",
   "execution_count": null,
   "id": "ca672b1d-982e-4d41-829d-377e8b41d958",
   "metadata": {},
   "outputs": [],
   "source": []
  }
 ],
 "metadata": {
  "kernelspec": {
   "display_name": "Python 3 (ipykernel)",
   "language": "python",
   "name": "python3"
  },
  "language_info": {
   "codemirror_mode": {
    "name": "ipython",
    "version": 3
   },
   "file_extension": ".py",
   "mimetype": "text/x-python",
   "name": "python",
   "nbconvert_exporter": "python",
   "pygments_lexer": "ipython3",
   "version": "3.10.6"
  }
 },
 "nbformat": 4,
 "nbformat_minor": 5
}
