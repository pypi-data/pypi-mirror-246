{
 "cells": [
  {
   "cell_type": "markdown",
   "metadata": {},
   "source": [
    "https://github.com/imperial-qore/line-solver/wiki/Getting-started#example-1-a-mm1-queue"
   ]
  },
  {
   "cell_type": "code",
   "execution_count": 1,
   "metadata": {
    "ExecuteTime": {
     "end_time": "2023-12-17T07:52:45.057222440Z",
     "start_time": "2023-12-17T07:52:32.884394885Z"
    }
   },
   "outputs": [
    {
     "name": "stdout",
     "output_type": "stream",
     "text": [
      "Listening for transport dt_socket at address: 5005\n"
     ]
    }
   ],
   "source": [
    "from line_solver import *\n",
    "GlobalConstants.setVerbose(VerboseLevel.STD)"
   ]
  },
  {
   "cell_type": "code",
   "execution_count": 2,
   "metadata": {
    "ExecuteTime": {
     "end_time": "2023-12-17T07:52:45.239267855Z",
     "start_time": "2023-12-17T07:52:45.106264665Z"
    }
   },
   "outputs": [],
   "source": [
    "model = Network('M/M/1')\n",
    "# Block 1: nodes\n",
    "source = Source(model, 'mySource')\n",
    "queue = Queue(model, 'myQueue', SchedStrategy.FCFS)\n",
    "sink = Sink(model, 'mySink')\n",
    "# Block 2: classes\n",
    "oclass = OpenClass(model, 'myClass')\n",
    "source.setArrival(oclass, Exp(1))\n",
    "queue.setService(oclass, Exp(2))\n",
    "# Block 3: topology\n",
    "model.link(Network.serialRouting(source, queue, sink))"
   ]
  },
  {
   "cell_type": "code",
   "execution_count": 3,
   "outputs": [
    {
     "name": "stdout",
     "output_type": "stream",
     "text": [
      "JMT Model: /tmp/workspace/jsim/14384685977590674421/model.jsim\n",
      "JMT Analysis completed. Runtime: 5.141 seconds\n",
      "    Station JobClass      QLen     Util     RespT    ResidT      ArvR  \\\n",
      "0  mySource  myClass  0.000000  0.00000  0.000000  0.000000  0.998942   \n",
      "1   myQueue  myClass  0.955501  0.48736  0.954293  0.954293  0.999868   \n",
      "\n",
      "       Tput  \n",
      "0  0.998942  \n",
      "1  0.999868  \n"
     ]
    }
   ],
   "source": [
    "# Block 4: solution\n",
    "AvgTable = SolverJMT(model, 'seed', 23000, 'samples', 10000).getAvgTable()"
   ],
   "metadata": {
    "collapsed": false,
    "ExecuteTime": {
     "end_time": "2023-12-17T07:52:51.306096121Z",
     "start_time": "2023-12-17T07:52:45.239916934Z"
    }
   }
  },
  {
   "cell_type": "code",
   "execution_count": 4,
   "outputs": [
    {
     "name": "stdout",
     "output_type": "stream",
     "text": [
      "   Station JobClass      QLen     Util     RespT    ResidT      ArvR      Tput\n",
      "1  myQueue  myClass  0.955501  0.48736  0.954293  0.954293  0.999868  0.999868\n"
     ]
    }
   ],
   "source": [
    "# select a particular table row\n",
    "ARow = tget(AvgTable, queue, oclass)"
   ],
   "metadata": {
    "collapsed": false,
    "ExecuteTime": {
     "end_time": "2023-12-17T07:52:51.314284257Z",
     "start_time": "2023-12-17T07:52:51.311124426Z"
    }
   }
  },
  {
   "cell_type": "code",
   "execution_count": 5,
   "outputs": [
    {
     "name": "stdout",
     "output_type": "stream",
     "text": [
      "   Station JobClass      QLen     Util     RespT    ResidT      ArvR      Tput\n",
      "1  myQueue  myClass  0.955501  0.48736  0.954293  0.954293  0.999868  0.999868\n"
     ]
    }
   ],
   "source": [
    "# select a particular table row by node and class label\n",
    "ARow = tget(AvgTable, 'myQueue', 'myClass')"
   ],
   "metadata": {
    "collapsed": false,
    "ExecuteTime": {
     "end_time": "2023-12-17T07:52:51.511765638Z",
     "start_time": "2023-12-17T07:52:51.315514685Z"
    }
   }
  }
 ],
 "metadata": {
  "kernelspec": {
   "display_name": "Python 3",
   "language": "python",
   "name": "python3"
  },
  "language_info": {
   "codemirror_mode": {
    "name": "ipython",
    "version": 3
   },
   "file_extension": ".py",
   "mimetype": "text/x-python",
   "name": "python",
   "nbconvert_exporter": "python",
   "pygments_lexer": "ipython3",
   "version": "3.6.4"
  }
 },
 "nbformat": 4,
 "nbformat_minor": 2
}
