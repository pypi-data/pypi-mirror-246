{
 "cells": [
  {
   "cell_type": "markdown",
   "metadata": {},
   "source": [
    "https://github.com/imperial-qore/line-solver/wiki/Getting-started#example-1-a-mm1-queue"
   ]
  },
  {
   "cell_type": "code",
   "execution_count": 1,
   "metadata": {
    "ExecuteTime": {
     "end_time": "2023-12-10T18:43:18.553340965Z",
     "start_time": "2023-12-10T18:43:17.658978043Z"
    }
   },
   "outputs": [],
   "source": [
    "from line_solver import *\n",
    "GlobalConstants.setVerbose(VerboseLevel.STD)"
   ]
  },
  {
   "cell_type": "code",
   "execution_count": 2,
   "metadata": {
    "ExecuteTime": {
     "end_time": "2023-12-10T18:43:18.570705884Z",
     "start_time": "2023-12-10T18:43:18.555969250Z"
    }
   },
   "outputs": [],
   "source": [
    "model = Network('M/M/1')\n",
    "# Block 1: nodes\n",
    "source = Source(model, 'mySource')\n",
    "queue = Queue(model, 'myQueue', SchedStrategy.FCFS)\n",
    "sink = Sink(model, 'mySink')\n",
    "# Block 2: classes\n",
    "oclass = OpenClass(model, 'myClass')\n",
    "source.setArrival(oclass, Exp(1))\n",
    "queue.setService(oclass, Exp(2))\n",
    "# Block 3: topology\n",
    "model.link(Network.serialRouting(source, queue, sink))"
   ]
  },
  {
   "cell_type": "code",
   "execution_count": 3,
   "outputs": [
    {
     "name": "stdout",
     "output_type": "stream",
     "text": [
      "JMT Model: /tmp/workspace/jsim/8798107183782097528/model.jsim\n",
      "JMT Analysis completed. Runtime: 0.792 seconds\n",
      "    Station JobClass      QLen     Util     RespT    ResidT      ArvR  \\\n",
      "0  mySource  myClass  0.000000  0.00000  0.000000  0.000000  0.998942   \n",
      "1   myQueue  myClass  0.955501  0.48736  0.954293  0.954293  0.999868   \n",
      "\n",
      "       Tput  \n",
      "0  0.998942  \n",
      "1  0.999868  \n"
     ]
    }
   ],
   "source": [
    "# Block 4: solution\n",
    "AvgTable = SolverJMT(model, 'seed', 23000, 'samples', 10000).getAvgTable()"
   ],
   "metadata": {
    "collapsed": false,
    "ExecuteTime": {
     "end_time": "2023-12-10T18:43:19.612406977Z",
     "start_time": "2023-12-10T18:43:18.571629840Z"
    }
   }
  },
  {
   "cell_type": "code",
   "execution_count": 4,
   "outputs": [
    {
     "name": "stdout",
     "output_type": "stream",
     "text": [
      "   Station JobClass      QLen     Util     RespT    ResidT      ArvR      Tput\n",
      "1  myQueue  myClass  0.955501  0.48736  0.954293  0.954293  0.999868  0.999868\n"
     ]
    }
   ],
   "source": [
    "# select a particular table row\n",
    "ARow = tget(AvgTable, queue, oclass)"
   ],
   "metadata": {
    "collapsed": false,
    "ExecuteTime": {
     "end_time": "2023-12-10T18:43:19.616964661Z",
     "start_time": "2023-12-10T18:43:19.611245499Z"
    }
   }
  },
  {
   "cell_type": "code",
   "execution_count": 5,
   "outputs": [
    {
     "name": "stdout",
     "output_type": "stream",
     "text": [
      "   Station JobClass      QLen     Util     RespT    ResidT      ArvR      Tput\n",
      "1  myQueue  myClass  0.955501  0.48736  0.954293  0.954293  0.999868  0.999868\n"
     ]
    }
   ],
   "source": [
    "# select a particular table row by node and class label\n",
    "ARow = tget(AvgTable, 'myQueue', 'myClass')"
   ],
   "metadata": {
    "collapsed": false,
    "ExecuteTime": {
     "end_time": "2023-12-10T18:43:19.903845615Z",
     "start_time": "2023-12-10T18:43:19.618160544Z"
    }
   }
  }
 ],
 "metadata": {
  "kernelspec": {
   "display_name": "Python 3",
   "language": "python",
   "name": "python3"
  },
  "language_info": {
   "codemirror_mode": {
    "name": "ipython",
    "version": 3
   },
   "file_extension": ".py",
   "mimetype": "text/x-python",
   "name": "python",
   "nbconvert_exporter": "python",
   "pygments_lexer": "ipython3",
   "version": "3.6.4"
  }
 },
 "nbformat": 4,
 "nbformat_minor": 2
}
