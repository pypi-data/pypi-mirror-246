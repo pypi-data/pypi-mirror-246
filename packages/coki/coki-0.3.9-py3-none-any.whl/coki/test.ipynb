{
 "cells": [
  {
   "cell_type": "code",
   "execution_count": 1,
   "metadata": {},
   "outputs": [],
   "source": [
    "import requests\n",
    "import json\n",
    "from tabulate import tabulate\n",
    "import coki.funcs as funcs"
   ]
  },
  {
   "cell_type": "code",
   "execution_count": 6,
   "metadata": {},
   "outputs": [
    {
     "name": "stdout",
     "output_type": "stream",
     "text": [
      "\t GOGLD - Cedear Google inc. - USD\n",
      "\t Last: 2.51 - High: 2.57 - Low: 2.46 - Volume: 3,398\n",
      "╭────────────────┬─────────────────┬────┬────────────────┬───────────────╮\n",
      "│   Cant. compra │   Precio compra │    │   Precio venta │   Cant. venta │\n",
      "├────────────────┼─────────────────┼────┼────────────────┼───────────────┤\n",
      "│            338 │            2.50 │    │           2.51 │            69 │\n",
      "│            404 │            2.48 │    │           2.54 │           281 │\n",
      "│            802 │            2.47 │    │           2.55 │           234 │\n",
      "│             30 │            2.46 │    │           2.57 │           605 │\n",
      "│            200 │            2.45 │    │           2.58 │           504 │\n",
      "╰────────────────┴─────────────────┴────┴────────────────┴───────────────╯\n"
     ]
    }
   ],
   "source": [
    "funcs.gen_table('GOGLD')"
   ]
  },
  {
   "cell_type": "code",
   "execution_count": 1,
   "metadata": {},
   "outputs": [],
   "source": [
    "from datetime import datetime"
   ]
  },
  {
   "cell_type": "code",
   "execution_count": 7,
   "metadata": {},
   "outputs": [
    {
     "data": {
      "text/plain": [
       "'11:18:36'"
      ]
     },
     "execution_count": 7,
     "metadata": {},
     "output_type": "execute_result"
    }
   ],
   "source": [
    "datetime.now().strftime(\"%H:%M:%S\")"
   ]
  }
 ],
 "metadata": {
  "kernelspec": {
   "display_name": "Python 3",
   "language": "python",
   "name": "python3"
  },
  "language_info": {
   "codemirror_mode": {
    "name": "ipython",
    "version": 3
   },
   "file_extension": ".py",
   "mimetype": "text/x-python",
   "name": "python",
   "nbconvert_exporter": "python",
   "pygments_lexer": "ipython3",
   "version": "3.9.13"
  }
 },
 "nbformat": 4,
 "nbformat_minor": 2
}
