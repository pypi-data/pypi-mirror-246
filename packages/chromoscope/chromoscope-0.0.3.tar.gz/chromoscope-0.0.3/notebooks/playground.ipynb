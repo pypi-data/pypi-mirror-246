{
 "cells": [
  {
   "cell_type": "code",
   "execution_count": 1,
   "id": "efd78655-78fa-46cc-856e-bef3163ceb46",
   "metadata": {
    "tags": []
   },
   "outputs": [],
   "source": [
    "%load_ext autoreload\n",
    "%autoreload 2"
   ]
  },
  {
   "cell_type": "code",
   "execution_count": 2,
   "id": "632a94aa-aecf-491a-9656-45d38d72ceff",
   "metadata": {
    "tags": []
   },
   "outputs": [],
   "source": [
    "# !wget https://somatic-browser-test.s3.amazonaws.com/SVTYPE_SV_test_tumor_normal_with_panel.bedpe\n",
    "\n",
    "config = [{\n",
    "    \"id\": \"SRR7890905\",\n",
    "    \"cancer\": \"breast\",\n",
    "    \"assembly\": \"hg38\",\n",
    "    \"sv\": \"./SVTYPE_SV_test_tumor_normal_with_panel.bedpe\",\n",
    "    \"cnv\": \"https://gist.githubusercontent.com/sehilyi/6fbceae35756b13472332d6b81b10803/raw/596428a8b0ebc00e7f8cbc52b050db0fbd6e19a5/SRR7890943.ascat.v3.cnv.tsv\",\n",
    "    \"bam\": \"https://somatic-browser-test.s3.amazonaws.com/SRR7890905_GAPFI2USVS21.bam\",\n",
    "    \"bai\": \"https://somatic-browser-test.s3.amazonaws.com/SRR7890905_GAPFI2USVS21.bam.bai\",\n",
    "    \"note\": \"This is a test note\"\n",
    "},\n",
    "{\n",
    "    \"id\": \"bc0dee07-de20-44d6-be65-05af7e63ac96\",\n",
    "    \"cancer\": \"gastric\",\n",
    "    \"assembly\": \"hg19\",\n",
    "    \"sv\": \"https://somatic-browser-test.s3.amazonaws.com/cdk12cancers/bc0dee07-de20-44d6-be65-05af7e63ac96.pcawg_consensus_1.6.161116.somatic.sv.bedpe\",\n",
    "    \"cnv\": \"https://somatic-browser-test.s3.amazonaws.com/cdk12cancers/bc0dee07-de20-44d6-be65-05af7e63ac96.consensus.20170119.somatic.cna.txt\",\n",
    "    \"vcf\": \"https://somatic-browser-test.s3.amazonaws.com/cdk12cancers/bc0dee07-de20-44d6-be65-05af7e63ac96.consensus.20160830.somatic.snv_mnv.sorted.vcf.gz\",\n",
    "    \"vcfIndex\": \"https://somatic-browser-test.s3.amazonaws.com/cdk12cancers/bc0dee07-de20-44d6-be65-05af7e63ac96.consensus.20160830.somatic.snv_mnv.sorted.vcf.gz.tbi\",\n",
    "    \"vcf2\": \"https://somatic-browser-test.s3.amazonaws.com/cdk12cancers/bc0dee07-de20-44d6-be65-05af7e63ac96.consensus.20161006.somatic.indel.sorted.vcf.gz\",\n",
    "    \"vcf2Index\":\n",
    "        \"https://somatic-browser-test.s3.amazonaws.com/cdk12cancers/bc0dee07-de20-44d6-be65-05af7e63ac96.consensus.20161006.somatic.indel.sorted.vcf.gz.tbi\",\n",
    "   \"note\": \"This is a test note\"\n",
    "}]"
   ]
  },
  {
   "cell_type": "code",
   "execution_count": 4,
   "id": "4487a2eb-83e6-47f8-a665-079a695b7f29",
   "metadata": {
    "tags": []
   },
   "outputs": [
    {
     "name": "stdout",
     "output_type": "stream",
     "text": [
      "Collecting chromoscope\n",
      "  Obtaining dependency information for chromoscope from https://files.pythonhosted.org/packages/39/9c/86ef86cf387a5f9ebf0250a2620382fb37008d4e183da408580a580c62f5/chromoscope-0.0.2-py3-none-any.whl.metadata\n",
      "  Downloading chromoscope-0.0.2-py3-none-any.whl.metadata (2.9 kB)\n",
      "Collecting jinja2 (from chromoscope)\n",
      "  Using cached Jinja2-3.1.2-py3-none-any.whl (133 kB)\n",
      "Collecting servir>=0.0.5 (from chromoscope)\n",
      "  Obtaining dependency information for servir>=0.0.5 from https://files.pythonhosted.org/packages/31/4c/8090494565b40aba04642a197f1a859e23383d49988d49f94b32b4bbd261/servir-0.1.1-py3-none-any.whl.metadata\n",
      "  Downloading servir-0.1.1-py3-none-any.whl.metadata (2.8 kB)\n",
      "Collecting portpicker (from servir>=0.0.5->chromoscope)\n",
      "  Obtaining dependency information for portpicker from https://files.pythonhosted.org/packages/32/2d/440e4d7041fff89f28f483733eb617127aa866135c2dc719e05893f089e1/portpicker-1.6.0-py3-none-any.whl.metadata\n",
      "  Downloading portpicker-1.6.0-py3-none-any.whl.metadata (1.5 kB)\n",
      "Collecting starlette>=0.26.1 (from servir>=0.0.5->chromoscope)\n",
      "  Obtaining dependency information for starlette>=0.26.1 from https://files.pythonhosted.org/packages/cd/5b/77aabbfc64b335709d9f4ff9fb315ab63ccaeda7f5db1944cde75c22af12/starlette-0.33.0-py3-none-any.whl.metadata\n",
      "  Downloading starlette-0.33.0-py3-none-any.whl.metadata (5.8 kB)\n",
      "Collecting uvicorn>=0.21.1 (from servir>=0.0.5->chromoscope)\n",
      "  Obtaining dependency information for uvicorn>=0.21.1 from https://files.pythonhosted.org/packages/7e/17/4b7a76fffa7babf397481040d8aef2725b2b81ae19f1a31b5ca0c17d49e6/uvicorn-0.24.0.post1-py3-none-any.whl.metadata\n",
      "  Downloading uvicorn-0.24.0.post1-py3-none-any.whl.metadata (6.4 kB)\n",
      "Collecting MarkupSafe>=2.0 (from jinja2->chromoscope)\n",
      "  Obtaining dependency information for MarkupSafe>=2.0 from https://files.pythonhosted.org/packages/c0/c7/171f5ac6b065e1425e8fabf4a4dfbeca76fd8070072c6a41bd5c07d90d8b/MarkupSafe-2.1.3-cp311-cp311-macosx_10_9_x86_64.whl.metadata\n",
      "  Downloading MarkupSafe-2.1.3-cp311-cp311-macosx_10_9_x86_64.whl.metadata (3.0 kB)\n",
      "Collecting anyio<5,>=3.4.0 (from starlette>=0.26.1->servir>=0.0.5->chromoscope)\n",
      "  Obtaining dependency information for anyio<5,>=3.4.0 from https://files.pythonhosted.org/packages/85/4f/d010eca6914703d8e6be222165d02c3e708ed909cdb2b7af3743667f302e/anyio-4.1.0-py3-none-any.whl.metadata\n",
      "  Downloading anyio-4.1.0-py3-none-any.whl.metadata (4.5 kB)\n",
      "Collecting click>=7.0 (from uvicorn>=0.21.1->servir>=0.0.5->chromoscope)\n",
      "  Obtaining dependency information for click>=7.0 from https://files.pythonhosted.org/packages/00/2e/d53fa4befbf2cfa713304affc7ca780ce4fc1fd8710527771b58311a3229/click-8.1.7-py3-none-any.whl.metadata\n",
      "  Using cached click-8.1.7-py3-none-any.whl.metadata (3.0 kB)\n",
      "Collecting h11>=0.8 (from uvicorn>=0.21.1->servir>=0.0.5->chromoscope)\n",
      "  Using cached h11-0.14.0-py3-none-any.whl (58 kB)\n",
      "Requirement already satisfied: psutil in /Users/sehilyi/.local/lib/python3.11/site-packages (from portpicker->servir>=0.0.5->chromoscope) (5.9.6)\n",
      "Collecting idna>=2.8 (from anyio<5,>=3.4.0->starlette>=0.26.1->servir>=0.0.5->chromoscope)\n",
      "  Obtaining dependency information for idna>=2.8 from https://files.pythonhosted.org/packages/c2/e7/a82b05cf63a603df6e68d59ae6a68bf5064484a0718ea5033660af4b54a9/idna-3.6-py3-none-any.whl.metadata\n",
      "  Downloading idna-3.6-py3-none-any.whl.metadata (9.9 kB)\n",
      "Collecting sniffio>=1.1 (from anyio<5,>=3.4.0->starlette>=0.26.1->servir>=0.0.5->chromoscope)\n",
      "  Using cached sniffio-1.3.0-py3-none-any.whl (10 kB)\n",
      "Downloading chromoscope-0.0.2-py3-none-any.whl (3.6 kB)\n",
      "Downloading servir-0.1.1-py3-none-any.whl (11 kB)\n",
      "Downloading MarkupSafe-2.1.3-cp311-cp311-macosx_10_9_x86_64.whl (13 kB)\n",
      "Downloading starlette-0.33.0-py3-none-any.whl (70 kB)\n",
      "\u001b[2K   \u001b[38;2;114;156;31m━━━━━━━━━━━━━━━━━━━━━━━━━━━━━━━━━━━━━━━━\u001b[0m \u001b[32m70.1/70.1 kB\u001b[0m \u001b[31m2.2 MB/s\u001b[0m eta \u001b[36m0:00:00\u001b[0m\n",
      "\u001b[?25hDownloading uvicorn-0.24.0.post1-py3-none-any.whl (59 kB)\n",
      "\u001b[2K   \u001b[38;2;114;156;31m━━━━━━━━━━━━━━━━━━━━━━━━━━━━━━━━━━━━━━━━\u001b[0m \u001b[32m59.7/59.7 kB\u001b[0m \u001b[31m1.8 MB/s\u001b[0m eta \u001b[36m0:00:00\u001b[0m\n",
      "\u001b[?25hDownloading portpicker-1.6.0-py3-none-any.whl (16 kB)\n",
      "Downloading anyio-4.1.0-py3-none-any.whl (83 kB)\n",
      "\u001b[2K   \u001b[38;2;114;156;31m━━━━━━━━━━━━━━━━━━━━━━━━━━━━━━━━━━━━━━━━\u001b[0m \u001b[32m83.9/83.9 kB\u001b[0m \u001b[31m2.4 MB/s\u001b[0m eta \u001b[36m0:00:00\u001b[0m\n",
      "\u001b[?25hUsing cached click-8.1.7-py3-none-any.whl (97 kB)\n",
      "Downloading idna-3.6-py3-none-any.whl (61 kB)\n",
      "\u001b[2K   \u001b[38;2;114;156;31m━━━━━━━━━━━━━━━━━━━━━━━━━━━━━━━━━━━━━━━━\u001b[0m \u001b[32m61.6/61.6 kB\u001b[0m \u001b[31m1.8 MB/s\u001b[0m eta \u001b[36m0:00:00\u001b[0m\n",
      "\u001b[?25hInstalling collected packages: sniffio, portpicker, MarkupSafe, idna, h11, click, uvicorn, jinja2, anyio, starlette, servir, chromoscope\n",
      "Successfully installed MarkupSafe-2.1.3 anyio-4.1.0 chromoscope-0.0.2 click-8.1.7 h11-0.14.0 idna-3.6 jinja2-3.1.2 portpicker-1.6.0 servir-0.1.1 sniffio-1.3.0 starlette-0.33.0 uvicorn-0.24.0.post1\n",
      "\n",
      "\u001b[1m[\u001b[0m\u001b[34;49mnotice\u001b[0m\u001b[1;39;49m]\u001b[0m\u001b[39;49m A new release of pip is available: \u001b[0m\u001b[31;49m23.2.1\u001b[0m\u001b[39;49m -> \u001b[0m\u001b[32;49m23.3.1\u001b[0m\n",
      "\u001b[1m[\u001b[0m\u001b[34;49mnotice\u001b[0m\u001b[1;39;49m]\u001b[0m\u001b[39;49m To update, run: \u001b[0m\u001b[32;49mpip install --upgrade pip\u001b[0m\n",
      "here\n"
     ]
    },
    {
     "data": {
      "text/html": [
       "\n",
       "<iframe src=\"https://chromoscope.bio/app?external=http://localhost:56417/resources/9c1f0ba-content.json\" frameborder=\"0\" allowfullscreen style=\"width:100%;height:700px;\" />\n"
      ],
      "text/plain": [
       "<chromoscope._viewer.Viewer at 0x11820f990>"
      ]
     },
     "execution_count": 4,
     "metadata": {},
     "output_type": "execute_result"
    }
   ],
   "source": [
    "!pip install chromoscope\n",
    "from chromoscope import Viewer\n",
    "\n",
    "Viewer.from_config(config)"
   ]
  },
  {
   "cell_type": "code",
   "execution_count": 4,
   "id": "28a79bde-3cf5-43ea-92e5-b83f1a8a44ae",
   "metadata": {},
   "outputs": [
    {
     "data": {
      "text/html": [
       "\n",
       "<iframe src=\"https://chromoscope.bio?external=http://localhost:54230/resources/24aeb90-content.json\" frameborder=\"0\" allowfullscreen style=\"width:100%;height:700px;\" />\n"
      ],
      "text/plain": [
       "<chromoscope._viewer.Viewer at 0x7fdb70344dc0>"
      ]
     },
     "execution_count": 4,
     "metadata": {},
     "output_type": "execute_result"
    }
   ],
   "source": [
    "from chromoscope import Viewer\n",
    "\n",
    "Viewer.from_config(config)"
   ]
  },
  {
   "cell_type": "code",
   "execution_count": null,
   "id": "642a0a11-fada-4537-9b60-b8e3a241d5a5",
   "metadata": {},
   "outputs": [],
   "source": []
  }
 ],
 "metadata": {
  "kernelspec": {
   "display_name": "Python 3 (ipykernel)",
   "language": "python",
   "name": "python3"
  },
  "language_info": {
   "codemirror_mode": {
    "name": "ipython",
    "version": 3
   },
   "file_extension": ".py",
   "mimetype": "text/x-python",
   "name": "python",
   "nbconvert_exporter": "python",
   "pygments_lexer": "ipython3",
   "version": "3.11.5"
  }
 },
 "nbformat": 4,
 "nbformat_minor": 5
}
