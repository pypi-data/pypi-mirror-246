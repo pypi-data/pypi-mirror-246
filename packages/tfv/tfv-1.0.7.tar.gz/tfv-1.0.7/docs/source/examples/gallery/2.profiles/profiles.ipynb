{
 "cells": [
  {
   "cell_type": "markdown",
   "id": "dfd9e772-5fdb-478a-9b5f-65c65f860345",
   "metadata": {},
   "source": [
    "# Gallery 2: Profile Plots\n",
    "This page provides example on how to plot 3D TUFLOW FV results as a function of depth (a 3D vertical profile). \n",
    "This notebook is used in combination with the [TUFLOW FV Python Toolbox](https://tfv.readthedocs.io/en/latest/index.html) (tfv) package. \n",
    "To follow along on your own computer, please download the demonstration notebooks from the [TUFLOW Downloads Page](https://www.tuflow.com/downloads/#utilities). Look for the TUFLOW FV Python Toolbox download.\n",
    "Installation instructions are provided on our [TUFLOW FV Python Toolbox Wiki Page](https://fvwiki.tuflow.com/TUFLOW_FV_Python_Toolbox)."
   ]
  },
  {
   "cell_type": "code",
   "execution_count": 1,
   "id": "a80d4849-5390-4d30-b5a1-5cd8c598556c",
   "metadata": {},
   "outputs": [],
   "source": [
    "import xarray as xr  # We utilise xarray to do all the heavy lifting \n",
    "import numpy as np\n",
    "import tfv.xarray\n",
    "from pathlib import Path # We'll also make use of the `pathlib` module to assist with managing file-paths, although this is entirely optional! \n",
    "import matplotlib.pyplot as plt"
   ]
  },
  {
   "cell_type": "markdown",
   "id": "4ff45c33-a9c9-411c-b0c5-49bea3cf6060",
   "metadata": {},
   "source": [
    "##### Open TUFLOW FV Model Result"
   ]
  },
  {
   "cell_type": "code",
   "execution_count": 2,
   "id": "4909c1be-85b6-4811-ac79-621f71b3137a",
   "metadata": {},
   "outputs": [],
   "source": [
    "model_folder = Path(r'..\\..\\data')\n",
    "model_file = 'HYD_002.nc'\n",
    "\n",
    "fv = xr.open_dataset(model_folder / model_file, decode_times=False).tfv\n"
   ]
  },
  {
   "cell_type": "markdown",
   "id": "cb0393ca-733b-44d8-9907-a64d4c612abd",
   "metadata": {},
   "source": [
    "#### Define Locations for Extraction"
   ]
  },
  {
   "cell_type": "code",
   "execution_count": 3,
   "id": "f7ef2eca-39d7-4b74-a1ec-9976a576d8ce",
   "metadata": {},
   "outputs": [],
   "source": [
    "locs = {\n",
    "    'P1' : (159.0758, -31.3638),\n",
    "    'P2' : (159.0845,  -31.3727),\n",
    "    'P3' : (159.0906,  -31.3814),\n",
    "    'P4' : (159.1001,  -31.3948),\n",
    "    'P5' : (159.1154,  -31.4032),\n",
    "    'P6' : (159.1266,  -31.4105),\n",
    "    'P7' : (159.1202,  -31.4165),\n",
    "    'P8' : (159.1178,  -31.4236),\n",
    "    'P9' : (159.1277,  -31.4402)\n",
    "}\n",
    "\n",
    "loc = 'P1'\n"
   ]
  },
  {
   "cell_type": "markdown",
   "id": "e0a28fae-074b-4bbc-8384-fc05e5c29415",
   "metadata": {},
   "source": [
    "#### Extract Profile Data Directly from TUFLOW FV Xarray Accessor Object\n"
   ]
  },
  {
   "cell_type": "code",
   "execution_count": 4,
   "id": "12ef6457-c5a2-4f51-8dfe-d7cf0b25fed4",
   "metadata": {},
   "outputs": [],
   "source": [
    "prof = fv.get_profile(locs[loc],variables=['V','TEMP','SAL'])\n",
    "#prof.head() # Uncomment to review the data array "
   ]
  },
  {
   "cell_type": "markdown",
   "id": "9305fca1-dfc6-4e4a-9162-287a17ed5396",
   "metadata": {},
   "source": [
    "#### Plot Profile"
   ]
  },
  {
   "cell_type": "code",
   "execution_count": 5,
   "id": "3fc78454-ab86-40b9-a30d-3150905a98c8",
   "metadata": {},
   "outputs": [
    {
     "data": {
      "image/png": "[encoded data removed]",
      "text/plain": [
       "<Figure size 640x480 with 1 Axes>"
      ]
     },
     "metadata": {},
     "output_type": "display_data"
    }
   ],
   "source": [
    "time = '2011-05-02 12:00'\n",
    "prof.sel(Time=time).plot.scatter(x='SAL',y='Z', color='black', lw=1)\n",
    "\n",
    "# Show layerfaces\n",
    "zfaces = prof['layerface_Z'].sel(Time=time)\n",
    "plt.yticks(zfaces)\n",
    "plt.grid(axis='y')\n",
    "plt.show()\n"
   ]
  },
  {
   "cell_type": "markdown",
   "id": "82e5eb47-eab7-4331-ad53-0b02b8d989b7",
   "metadata": {},
   "source": [
    "This concludes the examples on profile plotting."
   ]
  }
 ],
 "metadata": {
  "kernelspec": {
   "display_name": "Python 3 (ipykernel)",
   "language": "python",
   "name": "python3"
  },
  "language_info": {
   "codemirror_mode": {
    "name": "ipython",
    "version": 3
   },
   "file_extension": ".py",
   "mimetype": "text/x-python",
   "name": "python",
   "nbconvert_exporter": "python",
   "pygments_lexer": "ipython3",
   "version": "3.11.4"
  }
 },
 "nbformat": 4,
 "nbformat_minor": 5
}
