{
 "cells": [
  {
   "attachments": {},
   "cell_type": "markdown",
   "id": "c4e8d277-fe00-4468-b025-4cee4e13fddd",
   "metadata": {},
   "source": [
    "# Gallery 7: Miscellaneous\n",
    "\n",
    "This notebook shows an example Hovmoller Plot. \n",
    "\n",
    "This notebook is used in combination with the [TUFLOW FV Python Toolbox](https://tfv.readthedocs.io/en/latest/index.html) (tfv) package. \n",
    "To follow along on your own computer, please download the demonstration notebooks from the [TUFLOW Downloads Page](https://www.tuflow.com/downloads/#utilities). Look for the TUFLOW FV Python Toolbox download.\n",
    "Installation instructions are provided on our [TUFLOW FV Python Toolbox Wiki Page](https://fvwiki.tuflow.com/TUFLOW_FV_Python_Toolbox).\n",
    "\n",
    "To view miscellaneous figures you need to have additionally PyQT5 installed in your working Python environment.\n",
    "* If using conda: *conda install -c conda-forge pyqt*.   You will need to close this notebook, install with your environment activated (for example tfv-workspace) and then restart jupyter-lab.\n",
    "* In pip: *pip install PyQT5*.\n",
    "\n",
    "**Please note that the plots will be displayed in a separate window, not inline in the notebook.**"
   ]
  },
  {
   "cell_type": "code",
   "execution_count": 1,
   "id": "0812d6e5-5df2-497e-97f2-4efeb63c20a4",
   "metadata": {},
   "outputs": [],
   "source": [
    "from tfv.timeseries import FvTimeSeries\n",
    "from tfv.extractor import FvExtractor\n",
    "from tfv.visual import *\n",
    "from tfv.viewer import Viewer, ColourBar\n",
    "from pathlib import Path"
   ]
  },
  {
   "cell_type": "markdown",
   "id": "d053e4fe-1960-4824-ade2-5cedfcde35f2",
   "metadata": {},
   "source": [
    "#### Hovmoller Plot"
   ]
  },
  {
   "cell_type": "code",
   "execution_count": null,
   "id": "c657a1b8-4010-4010-b6b2-a8ca2f588856",
   "metadata": {},
   "outputs": [],
   "source": [
    "# Result file folder and name\n",
    "model_folder = Path(r'..\\..\\data')\n",
    "model_file = 'HYD_002.nc'\n",
    "ts_file = 'HYD_002_time_series.nc'\n",
    "\n",
    "# Variable to plot\n",
    "variable = 'SAL'\n",
    "location = 'Point_4'\n",
    "\n",
    "# Axes settings\n",
    "y_label = 'Water Surface Elevation [mAHD]'\n",
    "x_label = 'Date [dd/mm/yyyy]'\n",
    "date_fmt = '%d/%m/%Y'\n",
    "\n",
    "x_limit = [pd.Timestamp(2011, 5, 1), pd.Timestamp(2011, 5, 7)]\n",
    "y_limit = [-6, 0.5]\n",
    "c_limit = [0, 38]\n",
    "\n",
    "# ----------------------------------------------------- Script ---------------------------------------------------------\n",
    "\n",
    "# Prepare extractor object\n",
    "xtr = FvExtractor(model_folder / model_file)\n",
    "ts = FvTimeSeries(model_folder / ts_file)\n",
    "\n",
    "# Prepare viewer object, figure & axes\n",
    "viewer = Viewer(size=(220, 220), units='mm')\n",
    "axes = viewer.figure.subplots(3, 3)\n",
    "gs = axes[0, 0].get_gridspec()\n",
    "for ax in axes.flatten():\n",
    "    viewer.figure.delaxes(ax)\n",
    "ax_ts = viewer.figure.add_subplot(gs[0, :-1])\n",
    "ax_hm = viewer.figure.add_subplot(gs[1:, :-1])\n",
    "ax_pr = viewer.figure.add_subplot(gs[1:, -1])\n",
    "viewer.figure.subplots_adjust(bottom=0.25, top=0.95, wspace=0.35, hspace=0.35)\n",
    "\n",
    "# Plot profile visual\n",
    "time_series = SeriesGlider(ax_ts, ts, variable, location, 'sigma', (0, 1), viewer=viewer)\n",
    "hov_mol = HovmollerGlider(ax_hm, ts, variable, location, viewer=viewer, edgecolor='face', clim=c_limit)\n",
    "profile = ProfileCell(ax_pr, xtr, variable, ts.locations[location], viewer=viewer)\n",
    "\n",
    "# Set axes limits\n",
    "ax_ts.set_xlim(x_limit)\n",
    "ax_hm.set_xlim(x_limit)\n",
    "ax_pr.set_xlim(c_limit)\n",
    "\n",
    "# Set axes limits\n",
    "ax_ts.set_ylim(c_limit)\n",
    "ax_hm.set_ylim(y_limit)\n",
    "ax_pr.set_ylim(y_limit)\n",
    "\n",
    "# Format axes\n",
    "fmt = DateFormatter(date_fmt)\n",
    "\n",
    "ax_ts.xaxis.set_major_formatter(fmt)\n",
    "for tick in ax_ts.get_xticklabels():\n",
    "        tick.set_rotation(20)\n",
    "\n",
    "ax_hm.xaxis.set_major_formatter(fmt)\n",
    "for tick in ax_hm.get_xticklabels():\n",
    "        tick.set_rotation(20)\n",
    "\n",
    "viewer.figure.autofmt_xdate()\n",
    "\n",
    "col_bar = ColourBar(hov_mol.patch, location='bottom', label='Salinity [PSU]', offset=-0.10)\n",
    "bbox = list(col_bar.ax.get_position().bounds); bbox[2] = 3/4\n",
    "col_bar.ax.set_position(bbox)\n",
    "\n",
    "# Add labels\n",
    "ax_ts.set_ylabel('Depth Averaged Salinity [PSU]')\n",
    "ax_hm.set_ylabel('Elevation [m MSL]')\n",
    "ax_pr.set_ylabel('Elevation [m MSL]')\n",
    "ax_pr.set_xlabel('Salinity [PSU]')\n",
    "\n",
    "# Show the figure\n",
    "plt.show(block=True)\n",
    "\n",
    "# The plot will open in a seperate PyQT5 Window. \n",
    "# Once you've reviwed the results please close the figure window. \n",
    "# You will then need interrupt the notebook kernel by clicking the stop button prior to moving on and running the next example."
   ]
  },
  {
   "cell_type": "markdown",
   "id": "ceb3ef47-62ec-4fac-90b6-7ed3c86fd378",
   "metadata": {},
   "source": [
    "This concludes the example on Hovmoller plotting."
   ]
  }
 ],
 "metadata": {
  "kernelspec": {
   "display_name": "Python 3 (ipykernel)",
   "language": "python",
   "name": "python3"
  },
  "language_info": {
   "codemirror_mode": {
    "name": "ipython",
    "version": 3
   },
   "file_extension": ".py",
   "mimetype": "text/x-python",
   "name": "python",
   "nbconvert_exporter": "python",
   "pygments_lexer": "ipython3",
   "version": "3.11.4"
  }
 },
 "nbformat": 4,
 "nbformat_minor": 5
}
