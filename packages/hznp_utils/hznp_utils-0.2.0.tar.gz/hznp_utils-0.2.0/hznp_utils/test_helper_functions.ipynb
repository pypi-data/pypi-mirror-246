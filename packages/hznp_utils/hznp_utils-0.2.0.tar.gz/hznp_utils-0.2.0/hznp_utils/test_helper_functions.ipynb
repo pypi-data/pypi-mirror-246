{
 "cells": [
  {
   "cell_type": "code",
   "execution_count": null,
   "metadata": {
    "application/vnd.databricks.v1+cell": {
     "cellMetadata": {
      "byteLimit": 2048000,
      "rowLimit": 10000
     },
     "inputWidgets": {},
     "nuid": "ad261d05-da26-4cf9-b2f7-aff374e661c2",
     "showTitle": false,
     "title": ""
    }
   },
   "outputs": [
    {
     "ename": "",
     "evalue": "",
     "output_type": "error",
     "traceback": [
      "\u001b[1;31mThe file 'logging.py' seems to be overriding built in modules and interfering with the startup of the kernel. Consider renaming the file and starting the kernel again.\n",
      "\u001b[1;31mClick <a href='https://aka.ms/kernelFailuresOverridingBuiltInModules'>here</a> for more info."
     ]
    }
   ],
   "source": [
    "import helper_functions as hf\n",
    "import pandas as pd\n",
    "import pyspark \n",
    "import importlib\n",
    "importlib.reload(hf)"
   ]
  },
  {
   "cell_type": "code",
   "execution_count": null,
   "metadata": {
    "application/vnd.databricks.v1+cell": {
     "cellMetadata": {
      "byteLimit": 2048000,
      "rowLimit": 10000
     },
     "inputWidgets": {},
     "nuid": "84fe392b-85d8-40d6-9fc6-a22f3f729460",
     "showTitle": false,
     "title": ""
    }
   },
   "outputs": [],
   "source": [
    "from helper_functions import check_path\n",
    "print(check_path(\"dbfs:/infusedproduct\"))\n",
    "print(check_path(\"gs://infusedproduct\"))\n",
    "print(check_path(\"s3://infusedproduct\"))\n",
    "print(check_path(\"infusedproduct\"))\n",
    "print(check_path(\"/infusedproduct\"))"
   ]
  },
  {
   "cell_type": "code",
   "execution_count": null,
   "metadata": {
    "application/vnd.databricks.v1+cell": {
     "cellMetadata": {},
     "inputWidgets": {},
     "nuid": "0635829d-8b1f-4b13-b434-4710eb856f70",
     "showTitle": false,
     "title": ""
    }
   },
   "outputs": [],
   "source": [
    "print('komodo', hf.is_komodo)\n",
    "print('google', hf.is_gcp)"
   ]
  },
  {
   "cell_type": "code",
   "execution_count": null,
   "metadata": {
    "application/vnd.databricks.v1+cell": {
     "cellMetadata": {
      "byteLimit": 2048000,
      "rowLimit": 10000
     },
     "inputWidgets": {},
     "nuid": "b27bb158-07f9-4b18-a821-0c1b3a3106fa",
     "showTitle": false,
     "title": ""
    }
   },
   "outputs": [],
   "source": [
    "if hf.is_komodo:\n",
    "    hf.read_snowflake(\"SELECT cohort_id, name, source, destination, start_time, end_time, status, concat(substr(source,0,4), 'm', substr(source,5,2)) as version FROM dsvc_horizon_prod.cohorts_20211103.COHORT_METADATA order by start_time desc\").toPandas()"
   ]
  },
  {
   "cell_type": "code",
   "execution_count": null,
   "metadata": {
    "application/vnd.databricks.v1+cell": {
     "cellMetadata": {
      "byteLimit": 2048000,
      "rowLimit": 10000
     },
     "inputWidgets": {},
     "nuid": "184ec17b-ca04-4396-a4ea-7c75b218f5d0",
     "showTitle": false,
     "title": ""
    }
   },
   "outputs": [],
   "source": [
    "hf.read_yaml('infusedproduct/config/config.yaml')"
   ]
  },
  {
   "cell_type": "code",
   "execution_count": null,
   "metadata": {
    "application/vnd.databricks.v1+cell": {
     "cellMetadata": {
      "byteLimit": 2048000,
      "rowLimit": 10000
     },
     "inputWidgets": {},
     "nuid": "dd1da32a-8e7f-4f14-a4f6-d713aea8ea9d",
     "showTitle": false,
     "title": ""
    }
   },
   "outputs": [],
   "source": [
    "hf.read_table(f'infusedproduct/prod/tep/{\"komodo\" if hf.is_komodo else \"iqvia\"}/lrx/latest/processed/claims').limit(10).toPandas()"
   ]
  },
  {
   "cell_type": "code",
   "execution_count": null,
   "metadata": {
    "application/vnd.databricks.v1+cell": {
     "cellMetadata": {
      "byteLimit": 2048000,
      "rowLimit": 10000
     },
     "inputWidgets": {},
     "nuid": "ae61f85b-b562-48ce-93fb-0e19d0e42e6d",
     "showTitle": false,
     "title": ""
    }
   },
   "outputs": [],
   "source": [
    "hf.add_file_prefix('infusedproduct/config/latest_codes.xlsx')"
   ]
  },
  {
   "cell_type": "code",
   "execution_count": null,
   "metadata": {
    "application/vnd.databricks.v1+cell": {
     "cellMetadata": {
      "byteLimit": 2048000,
      "rowLimit": 10000
     },
     "inputWidgets": {},
     "nuid": "5dcf5ec7-00d6-4b1f-b0f7-015e297b01b1",
     "showTitle": false,
     "title": ""
    }
   },
   "outputs": [],
   "source": [
    "hf.bucket_prefix()"
   ]
  },
  {
   "cell_type": "code",
   "execution_count": null,
   "metadata": {
    "application/vnd.databricks.v1+cell": {
     "cellMetadata": {
      "byteLimit": 2048000,
      "rowLimit": 10000
     },
     "inputWidgets": {},
     "nuid": "15b39940-36dd-47db-9b12-d06f494b4040",
     "showTitle": false,
     "title": ""
    }
   },
   "outputs": [],
   "source": [
    "hf.get_user()"
   ]
  },
  {
   "cell_type": "code",
   "execution_count": null,
   "metadata": {
    "application/vnd.databricks.v1+cell": {
     "cellMetadata": {
      "byteLimit": 2048000,
      "rowLimit": 10000
     },
     "inputWidgets": {},
     "nuid": "2ca47786-27b1-4259-96e9-7241feee7b6d",
     "showTitle": false,
     "title": ""
    }
   },
   "outputs": [],
   "source": [
    "hf.get_config()"
   ]
  },
  {
   "cell_type": "code",
   "execution_count": null,
   "metadata": {
    "application/vnd.databricks.v1+cell": {
     "cellMetadata": {
      "byteLimit": 2048000,
      "rowLimit": 10000
     },
     "inputWidgets": {},
     "nuid": "27c3dd97-88dd-4435-a3c7-4f10d088fda5",
     "showTitle": false,
     "title": ""
    }
   },
   "outputs": [],
   "source": [
    "if hf.is_komodo:\n",
    "    print(hf.get_version('komodo_tep_komodo'))"
   ]
  },
  {
   "cell_type": "code",
   "execution_count": null,
   "metadata": {
    "application/vnd.databricks.v1+cell": {
     "cellMetadata": {
      "byteLimit": 2048000,
      "rowLimit": 10000
     },
     "inputWidgets": {},
     "nuid": "ab4d6207-a63d-4b9f-9613-4e6a3b38e397",
     "showTitle": false,
     "title": ""
    }
   },
   "outputs": [],
   "source": [
    "assert hf.exists('infusedproduct/config/config.yaml') \n",
    "assert not hf.exists('infusedproduct/config/doesnotexist.yaml')"
   ]
  },
  {
   "cell_type": "code",
   "execution_count": null,
   "metadata": {
    "application/vnd.databricks.v1+cell": {
     "cellMetadata": {
      "byteLimit": 2048000,
      "rowLimit": 10000
     },
     "inputWidgets": {},
     "nuid": "24e6d12a-958f-45c6-b7d8-ea784cf9ef6c",
     "showTitle": false,
     "title": ""
    }
   },
   "outputs": [],
   "source": [
    "test_df = pd.DataFrame([['a', 'b'], ['c', 'd']],\n",
    "                      columns=['col_1', 'col_2'])\n",
    "test_df"
   ]
  },
  {
   "cell_type": "code",
   "execution_count": null,
   "metadata": {
    "application/vnd.databricks.v1+cell": {
     "cellMetadata": {
      "byteLimit": 2048000,
      "rowLimit": 10000
     },
     "inputWidgets": {},
     "nuid": "3825f399-285e-4e90-846b-2c358f956e2f",
     "showTitle": false,
     "title": ""
    }
   },
   "outputs": [],
   "source": [
    "spark_df = spark.createDataFrame(test_df)\n",
    "hf.write_table(spark_df, 'infusedproduct/dev/test_delta')"
   ]
  },
  {
   "cell_type": "code",
   "execution_count": null,
   "metadata": {
    "application/vnd.databricks.v1+cell": {
     "cellMetadata": {
      "byteLimit": 2048000,
      "rowLimit": 10000
     },
     "inputWidgets": {},
     "nuid": "916fbf2a-5148-4a25-8ce3-dfebce71ce0a",
     "showTitle": false,
     "title": ""
    }
   },
   "outputs": [],
   "source": [
    "hf.read_table('infusedproduct/dev/test_delta').toPandas()"
   ]
  },
  {
   "cell_type": "code",
   "execution_count": null,
   "metadata": {
    "application/vnd.databricks.v1+cell": {
     "cellMetadata": {
      "byteLimit": 2048000,
      "rowLimit": 10000
     },
     "inputWidgets": {},
     "nuid": "953eae6d-c4f6-4877-8ac4-cb3254bf0c48",
     "showTitle": false,
     "title": ""
    }
   },
   "outputs": [],
   "source": [
    "hf.optimize_table('infusedproduct/dev/test_delta')"
   ]
  },
  {
   "cell_type": "code",
   "execution_count": null,
   "metadata": {
    "application/vnd.databricks.v1+cell": {
     "cellMetadata": {},
     "inputWidgets": {},
     "nuid": "ebb538f2-2377-401a-9b47-45d1b9143d45",
     "showTitle": false,
     "title": ""
    }
   },
   "outputs": [],
   "source": []
  }
 ],
 "metadata": {
  "application/vnd.databricks.v1+notebook": {
   "dashboards": [],
   "language": "python",
   "notebookMetadata": {
    "pythonIndentUnit": 4
   },
   "notebookName": "test_helper_functions",
   "widgets": {}
  },
  "kernelspec": {
   "display_name": "DS311",
   "language": "python",
   "name": "python3"
  },
  "language_info": {
   "name": "python",
   "version": "3.11.3"
  }
 },
 "nbformat": 4,
 "nbformat_minor": 0
}
