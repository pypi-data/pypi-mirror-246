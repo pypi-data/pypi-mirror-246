{
 "cells": [
  {
   "cell_type": "markdown",
   "metadata": {},
   "source": [
    "# 设置要查询的 COREF database"
   ]
  },
  {
   "cell_type": "markdown",
   "metadata": {},
   "source": [
    "使用 `%db /path/to/db` 来设置COREF db路径，Godel kernel会读取这个值来进行query查询"
   ]
  },
  {
   "cell_type": "code",
   "execution_count": 1,
   "metadata": {
    "vscode": {
     "languageId": "java"
    },
    "ExecuteTime": {
     "end_time": "2023-10-31T02:20:56.352208Z",
     "start_time": "2023-10-31T02:20:56.345853Z"
    }
   },
   "outputs": [
    {
     "name": "stdout",
     "output_type": "stream",
     "text": [
      "/Users/xunjin/ant/sparrow-repo/sparrow-cli/db\n"
     ]
    }
   ],
   "source": [
    "%db ~/ant/sparrow-repo/sparrow-cli/db"
   ]
  },
  {
   "cell_type": "markdown",
   "metadata": {},
   "source": [
    "tips: 还可以用`!`来运行一些有用的bash命令，比如查看sparrow CLI是否存在："
   ]
  },
  {
   "cell_type": "code",
   "execution_count": 2,
   "metadata": {
    "vscode": {
     "languageId": "java"
    },
    "ExecuteTime": {
     "end_time": "2023-10-31T02:20:57.497077Z",
     "start_time": "2023-10-31T02:20:57.330103Z"
    }
   },
   "outputs": [
    {
     "name": "stdout",
     "output_type": "stream",
     "text": [
      "/Users/xunjin/sparrow-cli/sparrow\r\n"
     ]
    }
   ],
   "source": [
    "!which sparrow"
   ]
  },
  {
   "cell_type": "markdown",
   "metadata": {
    "tags": []
   },
   "source": [
    "# Godel 查询"
   ]
  },
  {
   "cell_type": "markdown",
   "metadata": {},
   "source": [
    "设置好`DB`环境变量后可以直接写Godel脚本，Jupyter kernel创建临时文件来保存当前运行的Godel脚本并调用`sparrow query run`命令来进行查询，结果返回以HTML格式显示"
   ]
  },
  {
   "cell_type": "code",
   "execution_count": 3,
   "metadata": {
    "pycharm": {
     "name": "#%%\n"
    },
    "tags": [],
    "vscode": {
     "languageId": "java"
    },
    "ExecuteTime": {
     "end_time": "2023-10-31T02:21:01.877510Z",
     "start_time": "2023-10-31T02:20:59.189299Z"
    }
   },
   "outputs": [
    {
     "name": "stderr",
     "output_type": "stream",
     "text": [
      "\u001B[0;31mSparrow database is set to: /Users/xunjin/ant/sparrow-repo/sparrow-cli/db\n",
      "\u001B[0m"
     ]
    },
    {
     "name": "stdout",
     "output_type": "stream",
     "text": [
      "Total results: 2\n"
     ]
    },
    {
     "data": {
      "text/plain": "<IPython.core.display.HTML object>",
      "text/html": "<div>\n<style scoped>\n    .dataframe tbody tr th:only-of-type {\n        vertical-align: middle;\n    }\n\n    .dataframe tbody tr th {\n        vertical-align: top;\n    }\n\n    .dataframe thead th {\n        text-align: right;\n    }\n</style>\n<table border=\"1\" class=\"dataframe\">\n  <thead>\n    <tr style=\"text-align: right;\">\n      <th></th>\n      <th>id</th>\n      <th>name</th>\n    </tr>\n  </thead>\n  <tbody>\n    <tr>\n      <th>0</th>\n      <td>1002</td>\n      <td>blue</td>\n    </tr>\n    <tr>\n      <th>1</th>\n      <td>1005</td>\n      <td>blue</td>\n    </tr>\n  </tbody>\n</table>\n</div>"
     },
     "metadata": {},
     "output_type": "display_data"
    }
   ],
   "source": [
    "//定义一个关系 color，color有两个属性id和color\n",
    "predicate color(int id, string name) {\n",
    "    (id = 1001 and name = \"red\") or\n",
    "    (id = 1002 and name = \"blue\") or\n",
    "    (id = 1003 and name = \"white\") or\n",
    "    (id = 1004 and name = \"red\") or\n",
    "    (id = 1005 and name = \"blue\")\n",
    "}\n",
    "\n",
    "\n",
    "\n",
    "//定义一个类Color\n",
    "class Color\n",
    "{\n",
    "    Color() {\n",
    "        color(this, _)\n",
    "    }\n",
    "\n",
    "    @inline\n",
    "    int getId(){\n",
    "        return this\n",
    "    }\n",
    "\n",
    "    string get_color() {\n",
    "        return name : exists(string name) { color(this, name) }\n",
    "    }\n",
    "\n",
    "    Color getA(int b){\n",
    "    return a : exists(Color a) { this = b and a = this }\n",
    "    }\n",
    "\n",
    "    predicate is_red() {\n",
    "        get_color() = \"red\"\n",
    "    }\n",
    "    predicate is_blue() {\n",
    "        get_color() = \"blue\"\n",
    "    }\n",
    "    predicate is_white() {\n",
    "        get_color() = \"white\"\n",
    "    }\n",
    "}\n",
    "//定义一个Color的子类RedColor\n",
    "class RedColor extends Color\n",
    "{\n",
    "    RedColor() {\n",
    "        color(this, \"red\")\n",
    "    }\n",
    "}\n",
    "\n",
    "class B extends Color{\n",
    "    B() {\n",
    "        exists(int b) { this = getA(b) }\n",
    "    }\n",
    "}\n",
    "\n",
    "predicate output(int id, string name) {\n",
    "    exists(Color c) { id = c.getId() and name = c.get_color() and c.is_blue() }\n",
    "}\n",
    "\n"
   ]
  },
  {
   "cell_type": "markdown",
   "metadata": {
    "collapsed": false
   },
   "source": [
    "`%db` 魔法命令可以写在 Godel 脚本的第一行"
   ]
  },
  {
   "cell_type": "code",
   "execution_count": 4,
   "metadata": {
    "collapsed": false,
    "vscode": {
     "languageId": "java"
    },
    "ExecuteTime": {
     "end_time": "2023-10-31T02:21:05.299512Z",
     "start_time": "2023-10-31T02:21:02.980172Z"
    }
   },
   "outputs": [
    {
     "name": "stdout",
     "output_type": "stream",
     "text": [
      "/Users/xunjin/ant/sparrow-repo/sparrow-cli/db\n"
     ]
    },
    {
     "name": "stderr",
     "output_type": "stream",
     "text": [
      "\u001B[0;31mSparrow database is set to: /Users/xunjin/ant/sparrow-repo/sparrow-cli/db\n",
      "\u001B[0m"
     ]
    },
    {
     "name": "stdout",
     "output_type": "stream",
     "text": [
      "Total results: 2\n"
     ]
    },
    {
     "data": {
      "text/plain": "<IPython.core.display.HTML object>",
      "text/html": "<div>\n<style scoped>\n    .dataframe tbody tr th:only-of-type {\n        vertical-align: middle;\n    }\n\n    .dataframe tbody tr th {\n        vertical-align: top;\n    }\n\n    .dataframe thead th {\n        text-align: right;\n    }\n</style>\n<table border=\"1\" class=\"dataframe\">\n  <thead>\n    <tr style=\"text-align: right;\">\n      <th></th>\n      <th>id</th>\n      <th>name</th>\n    </tr>\n  </thead>\n  <tbody>\n    <tr>\n      <th>0</th>\n      <td>1002</td>\n      <td>blue</td>\n    </tr>\n    <tr>\n      <th>1</th>\n      <td>1005</td>\n      <td>blue</td>\n    </tr>\n  </tbody>\n</table>\n</div>"
     },
     "metadata": {},
     "output_type": "display_data"
    }
   ],
   "source": [
    "%db ~/ant/sparrow-repo/sparrow-cli/db\n",
    "//定义一个关系 color，color有两个属性id和color\n",
    "predicate color(int id, string name) {\n",
    "    (id = 1001 and name = \"red\") or\n",
    "    (id = 1002 and name = \"blue\") or\n",
    "    (id = 1003 and name = \"white\") or\n",
    "    (id = 1004 and name = \"red\") or\n",
    "    (id = 1005 and name = \"blue\")\n",
    "}\n",
    "\n",
    "\n",
    "\n",
    "//定义一个类Color\n",
    "class Color\n",
    "{\n",
    "    Color() {\n",
    "        color(this, _)\n",
    "    }\n",
    "\n",
    "    @inline\n",
    "    int getId(){\n",
    "        return this\n",
    "    }\n",
    "\n",
    "    string get_color() {\n",
    "        return name : exists(string name) { color(this, name) }\n",
    "    }\n",
    "\n",
    "    Color getA(int b){\n",
    "    return a : exists(Color a) { this = b and a = this }\n",
    "    }\n",
    "\n",
    "    predicate is_red() {\n",
    "        get_color() = \"red\"\n",
    "    }\n",
    "    predicate is_blue() {\n",
    "        get_color() = \"blue\"\n",
    "    }\n",
    "    predicate is_white() {\n",
    "        get_color() = \"white\"\n",
    "    }\n",
    "}\n",
    "//定义一个Color的子类RedColor\n",
    "class RedColor extends Color\n",
    "{\n",
    "    RedColor() {\n",
    "        color(this, \"red\")\n",
    "    }\n",
    "}\n",
    "\n",
    "class B extends Color{\n",
    "    B() {\n",
    "        exists(int b) { this = getA(b) }\n",
    "    }\n",
    "}\n",
    "\n",
    "predicate output(int id, string name) {\n",
    "    exists(Color c) { id = c.getId() and name = c.get_color() and c.is_blue() }\n",
    "}\n",
    "\n"
   ]
  },
  {
   "cell_type": "markdown",
   "metadata": {
    "collapsed": false
   },
   "source": [
    "可以通过 `%%save_to` 保存上一次运行的 query 结果保存到一个JSON文件，具体用法：\n",
    "```bash\n",
    "%%save_to PATH - save the query result to a JSON file.\n",
    "\n",
    "This line magic will save the Sparrow query result to a file.\n",
    "\n",
    "Example:\n",
    "    %%save_to /path/to/file\n",
    "```"
   ]
  },
  {
   "cell_type": "code",
   "execution_count": 5,
   "metadata": {
    "collapsed": false,
    "vscode": {
     "languageId": "java"
    },
    "ExecuteTime": {
     "end_time": "2023-10-31T02:21:06.024877Z",
     "start_time": "2023-10-31T02:21:06.012880Z"
    }
   },
   "outputs": [
    {
     "name": "stdout",
     "output_type": "stream",
     "text": [
      "Query result saved to /Users/xunjin/ant/sparrow-repo/sparrow-cli/query.json\n"
     ]
    }
   ],
   "source": [
    "%%save_to ~/ant/sparrow-repo/sparrow-cli/query.json"
   ]
  },
  {
   "cell_type": "markdown",
   "metadata": {},
   "source": [
    "# 支持的魔法命令"
   ]
  },
  {
   "cell_type": "markdown",
   "metadata": {},
   "source": [
    "见 https://github.com/Calysto/metakernel/tree/master/docs/source"
   ]
  },
  {
   "cell_type": "code",
   "execution_count": 6,
   "metadata": {
    "vscode": {
     "languageId": "java"
    },
    "ExecuteTime": {
     "end_time": "2023-10-31T02:21:08.074648Z",
     "start_time": "2023-10-31T02:21:08.059022Z"
    }
   },
   "outputs": [
    {
     "name": "stdout",
     "output_type": "stream",
     "text": [
      "Available line magics:\n",
      "%activity  %cd  %connect_info  %conversation  %db  %dot  %download  %edit  %get  %help  %html  %include  %install  %install_magic  %javascript  %jigsaw  %kernel  %kx  %latex  %load  %ls  %lsmagic  %macro  %magic  %matplotlib  %parallel  %plot  %pmap  %px  %python  %reload_magics  %restart  %run  %scheme  %set  %shell\n",
      "\n",
      "Available cell magics:\n",
      "%%activity  %%brain  %%conversation  %%debug  %%dot  %%file  %%help  %%html  %%javascript  %%kx  %%latex  %%macro  %%pipe  %%processing  %%px  %%python  %%save_to  %%scheme  %%shell  %%show  %%time  %%tutor\n"
     ]
    }
   ],
   "source": [
    "%lsmagic"
   ]
  },
  {
   "cell_type": "code",
   "execution_count": 7,
   "metadata": {
    "vscode": {
     "languageId": "java"
    },
    "ExecuteTime": {
     "end_time": "2023-10-31T02:21:08.321414Z",
     "start_time": "2023-10-31T02:21:08.309464Z"
    }
   },
   "outputs": [
    {
     "data": {
      "text/plain": "<IPython.core.display.Latex object>",
      "text/latex": "$ x_1 = \\frac{1}{3} $"
     },
     "metadata": {},
     "output_type": "display_data"
    }
   ],
   "source": [
    "%%latex\n",
    "$ x_1 = \\frac{1}{3} $"
   ]
  },
  {
   "cell_type": "code",
   "execution_count": 8,
   "metadata": {
    "ExecuteTime": {
     "end_time": "2023-10-18T14:31:00.110575Z",
     "start_time": "2023-10-18T14:31:00.090278Z"
    },
    "collapsed": false,
    "vscode": {
     "languageId": "java"
    }
   },
   "outputs": [],
   "source": []
  }
 ],
 "metadata": {
  "kernelspec": {
   "display_name": "Godel kernel",
   "language": "java",
   "name": "godel-jupyter"
  },
  "language_info": {
   "file_extension": ".gdl",
   "help_links": [
    {
     "text": "MetaKernel Magics",
     "url": "https://metakernel.readthedocs.io/en/latest/source/README.html"
    }
   ],
   "mimetype": "text/rust",
   "name": "rust",
   "version": "0.0.3"
  }
 },
 "nbformat": 4,
 "nbformat_minor": 4
}
