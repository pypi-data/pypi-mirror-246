{
 "cells": [
  {
   "cell_type": "markdown",
   "metadata": {},
   "source": [
    "# Intro to LLMstudio\n"
   ]
  },
  {
   "cell_type": "markdown",
   "metadata": {},
   "source": [
    "### Import clients\n"
   ]
  },
  {
   "cell_type": "code",
   "execution_count": 9,
   "metadata": {},
   "outputs": [],
   "source": [
    "from llmstudio.models import OpenAIClient, VertexAIClient"
   ]
  },
  {
   "cell_type": "markdown",
   "metadata": {},
   "source": [
    "### Authentication\n"
   ]
  },
  {
   "cell_type": "markdown",
   "metadata": {},
   "source": [
    "You can initiate each client using your personal API key.\n",
    "\n",
    "NOTE: For Vertex AI, we are using service account JSON\n"
   ]
  },
  {
   "cell_type": "code",
   "execution_count": 3,
   "metadata": {},
   "outputs": [],
   "source": [
    "openai_client = OpenAIClient(api_key=\"your_openai_api_key\")\n",
    "vertexai_client = VertexAIClient(api_key=\"your_vertexai_json_api_key\")"
   ]
  },
  {
   "cell_type": "markdown",
   "metadata": {},
   "source": [
    "### Retrive models\n"
   ]
  },
  {
   "cell_type": "code",
   "execution_count": 10,
   "metadata": {},
   "outputs": [],
   "source": [
    "# OpenAI models\n",
    "gpt_3 = openai_client.get_model(\"gpt-3.5-turbo\")\n",
    "gpt_4 = openai_client.get_model(\"gpt-4\")\n",
    "\n",
    "# Vertex AI models\n",
    "text_bison = vertexai_client.get_model(\"text-bison\")\n",
    "chat_bison = vertexai_client.get_model(\"chat-bison\")\n",
    "code_bison = vertexai_client.get_model(\"code-bison\")\n",
    "codechat_bison = vertexai_client.get_model(\"codechat-bison\")"
   ]
  },
  {
   "cell_type": "markdown",
   "metadata": {},
   "source": [
    "### Chat\n"
   ]
  },
  {
   "cell_type": "code",
   "execution_count": 5,
   "metadata": {},
   "outputs": [
    {
     "data": {
      "text/plain": [
       "{'id': 343,\n",
       " 'chatInput': 'How long ago was the Big Bang',\n",
       " 'chatOutput': 'The Big Bang is believed to have occurred approximately 13.8 billion years ago.',\n",
       " 'inputTokens': 7,\n",
       " 'outputTokens': 17,\n",
       " 'totalTokens': 24,\n",
       " 'cost': 4.45e-05,\n",
       " 'timestamp': 1697464705.071376,\n",
       " 'modelName': 'gpt-3.5-turbo',\n",
       " 'parameters': {'temperature': 1.0,\n",
       "  'max_tokens': 256,\n",
       "  'top_p': 1.0,\n",
       "  'frequency_penalty': 0.0,\n",
       "  'presence_penalty': 0.0}}"
      ]
     },
     "execution_count": 5,
     "metadata": {},
     "output_type": "execute_result"
    }
   ],
   "source": [
    "gpt_3.chat(\"How long ago was the Big Bang\")"
   ]
  },
  {
   "cell_type": "markdown",
   "metadata": {},
   "source": [
    "You can alter parameters such as `temperature`, `max_tokens`,...\n"
   ]
  },
  {
   "cell_type": "code",
   "execution_count": 8,
   "metadata": {},
   "outputs": [
    {
     "data": {
      "text/plain": [
       "{'id': 986,\n",
       " 'chatInput': 'Write an original tonguetwister about space',\n",
       " 'chatOutput': 'Spaceship swiftly sails star systems, starting stellar searches, surveilling spectacular supernovas, scattering stardust samples summarily.',\n",
       " 'inputTokens': 9,\n",
       " 'outputTokens': 26,\n",
       " 'totalTokens': 35,\n",
       " 'cost': 0.00183,\n",
       " 'timestamp': 1697464785.6878145,\n",
       " 'modelName': 'gpt-4',\n",
       " 'parameters': {'temperature': 1.0,\n",
       "  'max_tokens': 256,\n",
       "  'top_p': 1.0,\n",
       "  'frequency_penalty': 1.0,\n",
       "  'presence_penalty': 0.0}}"
      ]
     },
     "execution_count": 8,
     "metadata": {},
     "output_type": "execute_result"
    }
   ],
   "source": [
    "gpt_4.chat(\n",
    "    \"Write an original tonguetwister about space\", parameters={\"frequency_penalty\": 1}\n",
    ")"
   ]
  },
  {
   "cell_type": "code",
   "execution_count": 12,
   "metadata": {},
   "outputs": [
    {
     "data": {
      "text/plain": [
       "{'id': 335,\n",
       " 'chatInput': 'Please help write a Python function to calculate the min of two numbers',\n",
       " 'chatOutput': '```python\\ndef min_of_two_numbers(a, b):\\r\\n    \"\"\"\\r\\n    This function returns the minimum of two numbers.\\r\\n\\r\\n    Args:\\r\\n    a (int): The first number.\\r\\n    b (int): The second number.\\r\\n\\r\\n    Returns:\\r\\n    int: The minimum of the two numbers.\\r\\n    \"\"\"\\r\\n\\r\\n    if a < b:\\r\\n        return a\\r\\n    else:\\r\\n        return b\\n```',\n",
       " 'inputTokens': 71,\n",
       " 'outputTokens': 316,\n",
       " 'totalTokens': 387,\n",
       " 'cost': 0.0001935,\n",
       " 'timestamp': 1697464958.0186973,\n",
       " 'modelName': 'code-bison',\n",
       " 'parameters': {'temperature': 1.0,\n",
       "  'max_tokens': 256,\n",
       "  'top_p': 1.0,\n",
       "  'top_k': 40.0}}"
      ]
     },
     "execution_count": 12,
     "metadata": {},
     "output_type": "execute_result"
    }
   ],
   "source": [
    "code_bison.chat(\n",
    "    \"Please help write a Python function to calculate the min of two numbers\"\n",
    ")"
   ]
  }
 ],
 "metadata": {
  "kernelspec": {
   "display_name": "Python 3",
   "language": "python",
   "name": "python3"
  },
  "language_info": {
   "codemirror_mode": {
    "name": "ipython",
    "version": 3
   },
   "file_extension": ".py",
   "mimetype": "text/x-python",
   "name": "python",
   "nbconvert_exporter": "python",
   "pygments_lexer": "ipython3",
   "version": "3.9.6"
  }
 },
 "nbformat": 4,
 "nbformat_minor": 2
}
