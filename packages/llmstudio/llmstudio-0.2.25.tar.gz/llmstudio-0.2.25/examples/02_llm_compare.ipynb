{
 "cells": [
  {
   "cell_type": "markdown",
   "metadata": {},
   "source": [
    "# LLM Compare\n"
   ]
  },
  {
   "cell_type": "markdown",
   "metadata": {},
   "source": [
    "### Import clients\n"
   ]
  },
  {
   "cell_type": "code",
   "execution_count": 8,
   "metadata": {},
   "outputs": [],
   "source": [
    "from llmstudio.models import OpenAIClient, LLMCompare"
   ]
  },
  {
   "cell_type": "markdown",
   "metadata": {},
   "source": [
    "### Authentication\n"
   ]
  },
  {
   "cell_type": "markdown",
   "metadata": {},
   "source": [
    "You can initiate each client using your personal API key."
   ]
  },
  {
   "cell_type": "code",
   "execution_count": 2,
   "metadata": {},
   "outputs": [
    {
     "name": "stdout",
     "output_type": "stream",
     "text": [
      "API Engine is already running\n"
     ]
    }
   ],
   "source": [
    "openai_client = OpenAIClient(api_key=\"your_openai_api_key\")"
   ]
  },
  {
   "cell_type": "markdown",
   "metadata": {},
   "source": [
    "### Retrieve models\n"
   ]
  },
  {
   "cell_type": "markdown",
   "metadata": {},
   "source": [
    "Here you can initialize all the LLMs you want to compare"
   ]
  },
  {
   "cell_type": "code",
   "execution_count": 3,
   "metadata": {},
   "outputs": [],
   "source": [
    "# OpenAI models\n",
    "gpt_3 = openai_client.get_model(\"gpt-3.5-turbo\")\n",
    "gpt_4 = openai_client.get_model(\"gpt-4\")\n",
    "models_list = [gpt_3, gpt_4]"
   ]
  },
  {
   "cell_type": "markdown",
   "metadata": {},
   "source": [
    "To compare the models, you'll need a list of prompts and respective expected outputs. We'll try a very basic example for this notebook"
   ]
  },
  {
   "cell_type": "code",
   "execution_count": 4,
   "metadata": {},
   "outputs": [],
   "source": [
    "prompt_list = [\"What is the capital of Portugal\", \"Can you tell me Spain's capital\"]\n",
    "expected_output = [\"Portugal's capital is Lisbon\", \"Madrid\"]"
   ]
  },
  {
   "cell_type": "markdown",
   "metadata": {},
   "source": [
    "Finally, let's feed our `LLMCompare` client and get a JSON with the respective performance for each model.\n",
    "\n",
    "The JSON will average the following parameters:\n",
    "- latency\n",
    "- cost\n",
    "- output tokens\n",
    "- similarity (using vector embedding)"
   ]
  },
  {
   "cell_type": "code",
   "execution_count": 7,
   "metadata": {},
   "outputs": [
    {
     "data": {
      "text/plain": [
       "{'gpt-3.5-turbo': {'average_latency': 0.9589900970458984,\n",
       "  'average_cost': 2.475e-05,\n",
       "  'average_output_token': 7.5,\n",
       "  'average_similarity': 0.8399327993392944},\n",
       " 'gpt-4': {'average_latency': 2.11752450466156,\n",
       "  'average_cost': 0.0006150000000000001,\n",
       "  'average_output_token': 7,\n",
       "  'average_similarity': 0.8424385488033295}}"
      ]
     },
     "execution_count": 7,
     "metadata": {},
     "output_type": "execute_result"
    }
   ],
   "source": [
    "llm_compare = LLMCompare()\n",
    "await llm_compare.dataset_prompt_compare(models=models_list, prompt_list=prompt_list, expected_output_list=expected_output)"
   ]
  }
 ],
 "metadata": {
  "kernelspec": {
   "display_name": "Python 3",
   "language": "python",
   "name": "python3"
  },
  "language_info": {
   "codemirror_mode": {
    "name": "ipython",
    "version": 3
   },
   "file_extension": ".py",
   "mimetype": "text/x-python",
   "name": "python",
   "nbconvert_exporter": "python",
   "pygments_lexer": "ipython3",
   "version": "3.9.18"
  }
 },
 "nbformat": 4,
 "nbformat_minor": 2
}
