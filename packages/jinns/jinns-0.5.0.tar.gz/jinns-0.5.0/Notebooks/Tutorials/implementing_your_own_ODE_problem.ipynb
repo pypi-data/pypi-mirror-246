{
 "cells": [
  {
   "cell_type": "markdown",
   "id": "7afb463b-cf62-4951-925e-397f44604143",
   "metadata": {},
   "source": [
    "# Package introductory notebook : implementing your own ODE problem\n",
    "\n",
    "## Reminder on the mathematical context\n",
    "\n",
    "**Est-ce qu'on écrit le système d'ODE direct ?**\n",
    "\n",
    "A detailed introduction on learning PDE with PINNS is available in the [Background section](https://mia_jinns.gitlab.io/jinns/math_pinn.html) of the documentation. \n",
    "\n",
    "The `jinns` package aims at solving  differential equations among which ordinary differential equations (ODE) defined as \n",
    "$$\n",
    "\\begin{cases}\n",
    "& \\mathcal{N}_\\theta[u](t) = 0, \\quad \\forall t \\in I = [0, T], & \\textrm{(Dynamic)}\\\\\n",
    "& u(0) = u_0, & \\textrm{(Initial condition)}\n",
    "\\end{cases}\n",
    "$$\n",
    "with $\\mathcal{N}_\\theta$ a differential operator of order $p$ (*i.e.* involving the $p$-th order derivative of $u$). The goal may be two-fold \n",
    "\n",
    " 1. **Forward problem :** for a given set of parameters $\\theta$, find a parametric function $u_\\nu : I \\mapsto \\mathbb{R}$ which is a good approximation of the solution $u$.\n",
    " 2. **Inverse problem :** for a given observation of the dynamic $D = \\{ (t_i, u(t_i))\\}_{i=1}^{n_{obs}}$, find a the set of parameters $\\theta$ that best fits the data. "
   ]
  },
  {
   "cell_type": "code",
   "execution_count": null,
   "id": "0cbde000-3cda-45d1-8779-2543d48860fb",
   "metadata": {},
   "outputs": [],
   "source": []
  }
 ],
 "metadata": {
  "kernelspec": {
   "display_name": "Python 3 (ipykernel)",
   "language": "python",
   "name": "python3"
  },
  "language_info": {
   "codemirror_mode": {
    "name": "ipython",
    "version": 3
   },
   "file_extension": ".py",
   "mimetype": "text/x-python",
   "name": "python",
   "nbconvert_exporter": "python",
   "pygments_lexer": "ipython3",
   "version": "3.11.4"
  }
 },
 "nbformat": 4,
 "nbformat_minor": 5
}
