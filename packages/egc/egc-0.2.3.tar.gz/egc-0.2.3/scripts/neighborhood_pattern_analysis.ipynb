{
 "cells": [
  {
   "cell_type": "code",
   "execution_count": 1,
   "metadata": {},
   "outputs": [
    {
     "name": "stdout",
     "output_type": "stream",
     "text": [
      "\n",
      "\n",
      "  NumNodes: 2708\n",
      "  NumEdges: 10556\n",
      "  NumFeats: 1433\n",
      "  NumClasses: 7\n",
      "  NumTrainingSamples: 140\n",
      "  NumValidationSamples: 500\n",
      "  NumTestSamples: 1000\n",
      "Done loading data from cached files.\n",
      "\n",
      "\n"
     ]
    }
   ],
   "source": [
    "import numpy as np\n",
    "import torch\n",
    "import sys\n",
    "\n",
    "sys.path.append('..')\n",
    "from utils import load_data\n",
    "\n",
    "# datasets = [\n",
    "#     'Flickr',\n",
    "#     'ACM',\n",
    "#     'BlogCatalog',\n",
    "#     'Cora',\n",
    "#     'Citeseer',\n",
    "#     'Pubmed',\n",
    "#     'CoraFull',\n",
    "#     'arxiv',\n",
    "#     'products',\n",
    "#     'Reddit',\n",
    "# ]\n",
    "\n",
    "# !!! ACM 还有孤立节点\n",
    "# !!! BlogCatalog, Flickr 的 label 从 1 开始\n",
    "datasets = ['Cora']\n",
    "for ds in datasets:\n",
    "    graph, label, n_lbs = load_data(ds)\n",
    "    features = graph.ndata[\"feat\"]\n",
    "    edges = graph.edges()\n",
    "    adj = graph.adj()\n",
    "    n_nodes = graph.num_nodes()\n",
    "    u, v = edges[0].numpy(), edges[1].numpy()\n",
    "\n",
    "    label_np_plus1 = label.numpy() + 1\n",
    "    st = 2 if ds in ['BlogCatalog', 'Flickr'] else 1\n",
    "    label_dicts = {l: np.nonzero(label_np_plus1 == l)[0] for l in np.unique(label_np_plus1)}\n",
    "    mask = np.repeat([label_np_plus1], n_nodes, axis=0)\n",
    "    \n"
   ]
  },
  {
   "cell_type": "code",
   "execution_count": 2,
   "metadata": {},
   "outputs": [
    {
     "name": "stdout",
     "output_type": "stream",
     "text": [
      "1 8\n"
     ]
    }
   ],
   "source": [
    "label_adj = adj.to_dense().numpy() * mask\n",
    "label_nei = np.zeros((n_nodes, n_lbs))\n",
    "\n",
    "print(st, n_lbs + st)\n",
    "# 统计各节点的邻域节点的类别计数\n",
    "for l in range(st, n_lbs + st):\n",
    "    label_nei[:,l - st] = (label_adj == l).sum(1)\n",
    "\n",
    "# 验证所有节点都不是孤立节点\n",
    "np.all(label_nei.sum(1, keepdims=True) > 0)\n",
    "\n",
    "# 计数转化为占比\n",
    "label_nei_d = label_nei / label_nei.sum(1, keepdims=True)"
   ]
  },
  {
   "cell_type": "code",
   "execution_count": 3,
   "metadata": {},
   "outputs": [
    {
     "name": "stdout",
     "output_type": "stream",
     "text": [
      "0.29259344287704914 \t 0.06432331963885082 \t 0.09770126920937716\n"
     ]
    }
   ],
   "source": [
    "# 整图所有节点的邻域节点类别分布情况\n",
    "# 最大占比，最小占比，整图邻域类别分布方差\n",
    "print(label_nei_d.mean(0).max(),'\\t',label_nei_d.mean(0).min(),'\\t',  ((label_nei_d - label_nei_d.mean(0))**2).mean())"
   ]
  },
  {
   "cell_type": "code",
   "execution_count": 4,
   "metadata": {},
   "outputs": [
    {
     "name": "stdout",
     "output_type": "stream",
     "text": [
      "351 \t 0.7433252651965693 \t 0.013672957677482563 \t 0.03051319510441177\n",
      "217 \t 0.7686691036667316 \t 0.0015360983102918587 \t 0.031574972901707556\n",
      "418 \t 0.916962929241898 \t 0.0005980861244019139 \t 0.010894852248660967\n",
      "818 \t 0.8385238729917665 \t 0.003760138937400552 \t 0.0244429087405303\n",
      "426 \t 0.848841728517578 \t 0.0016431924882629107 \t 0.024134556330106048\n",
      "298 \t 0.7855714732418337 \t 0.016996095265439912 \t 0.0291834362871841\n",
      "180 \t 0.788384031314846 \t 0.0009096816114359974 \t 0.023799144488337646\n"
     ]
    },
    {
     "data": {
      "text/plain": [
       "0.02493472372870548"
      ]
     },
     "execution_count": 4,
     "metadata": {},
     "output_type": "execute_result"
    },
    {
     "name": "stderr",
     "output_type": "stream",
     "text": [
      "/data/guming/anaconda3/envs/ecd/lib/python3.6/site-packages/outdated/utils.py:18: OutdatedCacheFailedWarning: Failed to use cache while checking for outdated package.\n",
      "Set the environment variable OUTDATED_RAISE_EXCEPTION=1 for a full traceback.\n",
      "Set the environment variable OUTDATED_IGNORE=1 to disable these warnings.\n",
      "  **kwargs\n"
     ]
    }
   ],
   "source": [
    "# 各类类内节点邻域类别分布情况\n",
    "label_mean = 0\n",
    "for i in range(st, n_lbs+st):\n",
    "    tt = label_nei_d[label_dicts[i]]\n",
    "    label_mean = label_mean + ((tt - tt.mean(0))**2).mean()\n",
    "    print(tt.shape[0], '\\t', tt.mean(0).max(),'\\t',tt.mean(0).min(),'\\t', ((tt - tt.mean(0))**2).mean())\n",
    "label_mean / n_lbs"
   ]
  },
  {
   "cell_type": "markdown",
   "metadata": {},
   "source": [
    "结论：<font color=red><strong>各类类内邻域类别分布方差 < 整图邻域类别分布方差</strong></font>"
   ]
  }
 ],
 "metadata": {
  "kernelspec": {
   "display_name": "Python 3.6.2 ('ecd')",
   "language": "python",
   "name": "python3"
  },
  "language_info": {
   "codemirror_mode": {
    "name": "ipython",
    "version": 3
   },
   "file_extension": ".py",
   "mimetype": "text/x-python",
   "name": "python",
   "nbconvert_exporter": "python",
   "pygments_lexer": "ipython3",
   "version": "3.6.2"
  },
  "orig_nbformat": 4,
  "vscode": {
   "interpreter": {
    "hash": "adf3bf86617e9334e50c9ddb2039e349fba81d784bcee14b4caa842dc1cf4003"
   }
  }
 },
 "nbformat": 4,
 "nbformat_minor": 2
}
